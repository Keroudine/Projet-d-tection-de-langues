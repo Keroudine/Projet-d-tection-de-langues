{
 "cells": [
  {
   "cell_type": "markdown",
   "metadata": {},
   "source": [
    "# Projet détection de langues."
   ]
  },
  {
   "cell_type": "markdown",
   "metadata": {},
   "source": [
    "# Les participants:\n",
    "    Keroudine BELLADJO & Ameline FAVRAIS"
   ]
  },
  {
   "cell_type": "markdown",
   "metadata": {},
   "source": [
    "En premier lieu, afin que les fonctions puissent fonctionner, il faut importer différentes bibliothèques de pyhton, à savoir:\n",
    "- Matplotlib qui va nous permettre de visualiser les données (tracer des graphiques)\n",
    "- Scikit-learn qui propose une implémentation de l’algorithme des k plus proches voisins.\n",
    "- Pandas qui va nous permettre de traiter nos données\n",
    "- numpy permet d'effectuer des calculs numériques et introduit une gestion facilitée des tableaux de nombres\n",
    "- requests Gestion domaines et URLS internationales\n",
    "- re  permet d'utiliser des expressions régulières avec Python\n",
    "- BeautifulSoup (belle soup)- BeautifulSoup (belle soup) est une bibliothèque Python d'analyse syntaxique de documents HTML et XML"
   ]
  },
  {
   "cell_type": "code",
   "execution_count": 2,
   "metadata": {},
   "outputs": [],
   "source": [
    "import matplotlib.pyplot as plt\n",
    "import seaborn as sns\n",
    "import pandas as pd\n",
    "import numpy as np\n",
    "import math\n",
    "import requests\n",
    "import re\n",
    "from bs4 import BeautifulSoup\n",
    "from sklearn.model_selection import train_test_split\n",
    "from sklearn.metrics import zero_one_loss\n",
    "from sklearn.neighbors import KNeighborsClassifier"
   ]
  },
  {
   "cell_type": "markdown",
   "metadata": {},
   "source": [
    "# PARTIE 1"
   ]
  },
  {
   "cell_type": "markdown",
   "metadata": {},
   "source": [
    "## 1) Création d'un ensemble de données en 5 langues."
   ]
  },
  {
   "cell_type": "markdown",
   "metadata": {},
   "source": [
    "On importe des morceaux de texte suffisemment grand pour etre étudié, et de différentes langues afin de pouvoir comparer les caractères par la suite."
   ]
  },
  {
   "cell_type": "markdown",
   "metadata": {},
   "source": [
    "- Voici les url du meme texte en 5 langues et leur classe :\n"
   ]
  },
  {
   "cell_type": "code",
   "execution_count": 3,
   "metadata": {},
   "outputs": [],
   "source": [
    "url=(\"https://fr.wikipedia.org/wiki/Martin_Luther_King\",\n",
    "\"https://en.wikipedia.org/wiki/Martin_Luther_King_Jr.\",\n",
    "\"https://de.wikipedia.org/wiki/Martin_Luther_King\",\n",
    "\"https://it.wikipedia.org/wiki/Martin_Luther_King\",\n",
    "\"https://es.wikipedia.org/wiki/Martin_Luther_King\")\n",
    "classe=(\"FR\",\"EN\",\"DE\",\"IT\",\"ES\")"
   ]
  },
  {
   "cell_type": "markdown",
   "metadata": {},
   "source": [
    "- Nous allons définir une fonction \"Extraction_de_texte(url)\" qui prend en argument un url et mets la contenance de cet url dans un fichier texte et le retourne. Cette fonction nous permetra par la suite de pouvoir traiter la donnée que contient l'url."
   ]
  },
  {
   "cell_type": "code",
   "execution_count": 4,
   "metadata": {},
   "outputs": [],
   "source": [
    "def extraction_texte(url):\n",
    "    \"\"\"\n",
    "     Fonction qui prend en argument un url,le traite\n",
    "     et retourne son contenue\n",
    "    \"\"\"\n",
    "    page=requests.get(url)\n",
    "    p=BeautifulSoup(page.content,\"html.parser\")\n",
    "    resultat=p.find(id=\"mw-content-text\")\n",
    "    para=resultat.find_all(\"p\")\n",
    "    l=[]\n",
    "    for t in para:\n",
    "        l.append(t.text)\n",
    "    return \" \".join(l)"
   ]
  },
  {
   "cell_type": "markdown",
   "metadata": {},
   "source": [
    "- On a creer la fonction \"texte_sans_c_speciaux\" pour filtrer tous les caractères spéciaux et accentués qui sont integrés dans les textes, comme par exemple les parenthèses, en effet cela n'est pas utile de faire une comparaison sur ce genre de caractères et cela la rendra plus précise. On limitera également les textes à 40 000 caractères afin que tout les textes aient le meme nombre de fragments n."
   ]
  },
  {
   "cell_type": "code",
   "execution_count": 5,
   "metadata": {},
   "outputs": [],
   "source": [
    "def texte_sans_c_speciaux(t,ind_d_ajstmnt_text=40000):\n",
    "     \n",
    "    \"\"\"Fonction qui prend en argument un fichier texte creer par la fonction precedente et un\n",
    "    Indice d'ajustement de la longueur du texte et \n",
    "    retourne toutes les sous-chaînes qui correspondent à des lettres muniscules ou majuscules du fichier texte\"\"\"\n",
    "    \n",
    "    texte=t.lower()\n",
    "    texte=re.findall(\"[a-z]\",texte)\n",
    "    texte=\"\".join(texte)\n",
    "    if len(texte)> ind_d_ajstmnt_text:\n",
    "        texte= texte[0:ind_d_ajstmnt_text]\n",
    "    else:\n",
    "        print(\"Indice d'ajustement de la longueur du texte est trop grand \" + str(len(texte)))\n",
    "\n",
    "    return texte"
   ]
  },
  {
   "cell_type": "markdown",
   "metadata": {},
   "source": [
    "- Créaction final des textes avec les 2 fonctions précedentes pour les 5 langues."
   ]
  },
  {
   "cell_type": "code",
   "execution_count": 6,
   "metadata": {},
   "outputs": [],
   "source": [
    "texte_fr=texte_sans_c_speciaux(extraction_texte(url[0]))\n",
    "texte_en=texte_sans_c_speciaux(extraction_texte(url[1]))\n",
    "texte_de=texte_sans_c_speciaux(extraction_texte(url[2]))\n",
    "texte_it=texte_sans_c_speciaux(extraction_texte(url[3]))\n",
    "texte_es=texte_sans_c_speciaux(extraction_texte(url[4]))"
   ]
  },
  {
   "cell_type": "markdown",
   "metadata": {},
   "source": [
    "## 2) Exploration des données."
   ]
  },
  {
   "cell_type": "markdown",
   "metadata": {},
   "source": [
    "- Hypothèse: La distribution des caractères varie d'une langue à l'autre."
   ]
  },
  {
   "cell_type": "markdown",
   "metadata": {},
   "source": [
    "- Nous allons dans un premier temps étudier la longueur de chaque texte afin de vérifier qu'elle soit bien limité à 40 000 caractères."
   ]
  },
  {
   "cell_type": "code",
   "execution_count": 7,
   "metadata": {},
   "outputs": [
    {
     "data": {
      "text/plain": [
       "(40000, 40000, 40000, 40000, 40000)"
      ]
     },
     "execution_count": 7,
     "metadata": {},
     "output_type": "execute_result"
    }
   ],
   "source": [
    "len(texte_fr),len(texte_en),len(texte_de),len(texte_es),len(texte_it)"
   ]
  },
  {
   "cell_type": "markdown",
   "metadata": {},
   "source": [
    "- On peut donc creer un tableur, plus précisement un DataFrame de chacune des 5 langues, qui donnera le nombre d'occurences de chacun des caractères."
   ]
  },
  {
   "cell_type": "code",
   "execution_count": 8,
   "metadata": {},
   "outputs": [],
   "source": [
    "V=pd.Series(list(texte_it)).value_counts()\n",
    "W=pd.Series(list(texte_es)).value_counts()\n",
    "X=pd.Series(list(texte_fr)).value_counts()\n",
    "Y=pd.Series(list(texte_en)).value_counts()\n",
    "Z=pd.Series(list(texte_de)).value_counts()"
   ]
  },
  {
   "cell_type": "code",
   "execution_count": 9,
   "metadata": {},
   "outputs": [],
   "source": [
    "df= pd.DataFrame(\n",
    "{\"Italien\": V,\n",
    " \"Espagnol\": W,\n",
    " \"Français\": X,\n",
    "\"Anglais\": Y,\n",
    "\"Allemand\": Z})"
   ]
  },
  {
   "cell_type": "markdown",
   "metadata": {},
   "source": [
    "- On remplacera également les \"NaN\" par des 0."
   ]
  },
  {
   "cell_type": "code",
   "execution_count": 10,
   "metadata": {},
   "outputs": [
    {
     "data": {
      "text/html": [
       "<div>\n",
       "<style scoped>\n",
       "    .dataframe tbody tr th:only-of-type {\n",
       "        vertical-align: middle;\n",
       "    }\n",
       "\n",
       "    .dataframe tbody tr th {\n",
       "        vertical-align: top;\n",
       "    }\n",
       "\n",
       "    .dataframe thead th {\n",
       "        text-align: right;\n",
       "    }\n",
       "</style>\n",
       "<table border=\"1\" class=\"dataframe\">\n",
       "  <thead>\n",
       "    <tr style=\"text-align: right;\">\n",
       "      <th></th>\n",
       "      <th>Italien</th>\n",
       "      <th>Espagnol</th>\n",
       "      <th>Français</th>\n",
       "      <th>Anglais</th>\n",
       "      <th>Allemand</th>\n",
       "    </tr>\n",
       "  </thead>\n",
       "  <tbody>\n",
       "    <tr>\n",
       "      <th>a</th>\n",
       "      <td>4304</td>\n",
       "      <td>4728</td>\n",
       "      <td>3169</td>\n",
       "      <td>3276</td>\n",
       "      <td>2396</td>\n",
       "    </tr>\n",
       "    <tr>\n",
       "      <th>b</th>\n",
       "      <td>430</td>\n",
       "      <td>621</td>\n",
       "      <td>341</td>\n",
       "      <td>569</td>\n",
       "      <td>727</td>\n",
       "    </tr>\n",
       "    <tr>\n",
       "      <th>c</th>\n",
       "      <td>1651</td>\n",
       "      <td>1816</td>\n",
       "      <td>1374</td>\n",
       "      <td>1414</td>\n",
       "      <td>1087</td>\n",
       "    </tr>\n",
       "    <tr>\n",
       "      <th>d</th>\n",
       "      <td>1520</td>\n",
       "      <td>2086</td>\n",
       "      <td>1555</td>\n",
       "      <td>1669</td>\n",
       "      <td>1898</td>\n",
       "    </tr>\n",
       "    <tr>\n",
       "      <th>e</th>\n",
       "      <td>4523</td>\n",
       "      <td>5004</td>\n",
       "      <td>5618</td>\n",
       "      <td>4719</td>\n",
       "      <td>6604</td>\n",
       "    </tr>\n",
       "    <tr>\n",
       "      <th>f</th>\n",
       "      <td>425</td>\n",
       "      <td>345</td>\n",
       "      <td>376</td>\n",
       "      <td>791</td>\n",
       "      <td>676</td>\n",
       "    </tr>\n",
       "    <tr>\n",
       "      <th>g</th>\n",
       "      <td>893</td>\n",
       "      <td>610</td>\n",
       "      <td>559</td>\n",
       "      <td>1063</td>\n",
       "      <td>1368</td>\n",
       "    </tr>\n",
       "    <tr>\n",
       "      <th>h</th>\n",
       "      <td>454</td>\n",
       "      <td>521</td>\n",
       "      <td>435</td>\n",
       "      <td>2117</td>\n",
       "      <td>1640</td>\n",
       "    </tr>\n",
       "    <tr>\n",
       "      <th>i</th>\n",
       "      <td>4578</td>\n",
       "      <td>2885</td>\n",
       "      <td>3212</td>\n",
       "      <td>3239</td>\n",
       "      <td>3219</td>\n",
       "    </tr>\n",
       "    <tr>\n",
       "      <th>j</th>\n",
       "      <td>64</td>\n",
       "      <td>200</td>\n",
       "      <td>212</td>\n",
       "      <td>121</td>\n",
       "      <td>115</td>\n",
       "    </tr>\n",
       "    <tr>\n",
       "      <th>k</th>\n",
       "      <td>177</td>\n",
       "      <td>156</td>\n",
       "      <td>144</td>\n",
       "      <td>444</td>\n",
       "      <td>623</td>\n",
       "    </tr>\n",
       "    <tr>\n",
       "      <th>l</th>\n",
       "      <td>2580</td>\n",
       "      <td>2366</td>\n",
       "      <td>2406</td>\n",
       "      <td>1572</td>\n",
       "      <td>1378</td>\n",
       "    </tr>\n",
       "    <tr>\n",
       "      <th>m</th>\n",
       "      <td>1059</td>\n",
       "      <td>1094</td>\n",
       "      <td>1274</td>\n",
       "      <td>988</td>\n",
       "      <td>1191</td>\n",
       "    </tr>\n",
       "    <tr>\n",
       "      <th>n</th>\n",
       "      <td>3183</td>\n",
       "      <td>3082</td>\n",
       "      <td>3170</td>\n",
       "      <td>3102</td>\n",
       "      <td>4102</td>\n",
       "    </tr>\n",
       "    <tr>\n",
       "      <th>o</th>\n",
       "      <td>3401</td>\n",
       "      <td>3332</td>\n",
       "      <td>2239</td>\n",
       "      <td>2834</td>\n",
       "      <td>1262</td>\n",
       "    </tr>\n",
       "    <tr>\n",
       "      <th>p</th>\n",
       "      <td>1020</td>\n",
       "      <td>911</td>\n",
       "      <td>1075</td>\n",
       "      <td>689</td>\n",
       "      <td>362</td>\n",
       "    </tr>\n",
       "    <tr>\n",
       "      <th>q</th>\n",
       "      <td>116</td>\n",
       "      <td>261</td>\n",
       "      <td>447</td>\n",
       "      <td>26</td>\n",
       "      <td>5</td>\n",
       "    </tr>\n",
       "    <tr>\n",
       "      <th>r</th>\n",
       "      <td>2613</td>\n",
       "      <td>2674</td>\n",
       "      <td>2769</td>\n",
       "      <td>2506</td>\n",
       "      <td>3134</td>\n",
       "    </tr>\n",
       "    <tr>\n",
       "      <th>s</th>\n",
       "      <td>1949</td>\n",
       "      <td>2941</td>\n",
       "      <td>3347</td>\n",
       "      <td>2481</td>\n",
       "      <td>2454</td>\n",
       "    </tr>\n",
       "    <tr>\n",
       "      <th>t</th>\n",
       "      <td>2567</td>\n",
       "      <td>1826</td>\n",
       "      <td>3046</td>\n",
       "      <td>3649</td>\n",
       "      <td>2629</td>\n",
       "    </tr>\n",
       "    <tr>\n",
       "      <th>u</th>\n",
       "      <td>1113</td>\n",
       "      <td>1504</td>\n",
       "      <td>2248</td>\n",
       "      <td>901</td>\n",
       "      <td>1434</td>\n",
       "    </tr>\n",
       "    <tr>\n",
       "      <th>v</th>\n",
       "      <td>766</td>\n",
       "      <td>418</td>\n",
       "      <td>609</td>\n",
       "      <td>461</td>\n",
       "      <td>432</td>\n",
       "    </tr>\n",
       "    <tr>\n",
       "      <th>w</th>\n",
       "      <td>83</td>\n",
       "      <td>42</td>\n",
       "      <td>44</td>\n",
       "      <td>723</td>\n",
       "      <td>637</td>\n",
       "    </tr>\n",
       "    <tr>\n",
       "      <th>x</th>\n",
       "      <td>15</td>\n",
       "      <td>52</td>\n",
       "      <td>127</td>\n",
       "      <td>51</td>\n",
       "      <td>27</td>\n",
       "    </tr>\n",
       "    <tr>\n",
       "      <th>y</th>\n",
       "      <td>115</td>\n",
       "      <td>385</td>\n",
       "      <td>171</td>\n",
       "      <td>537</td>\n",
       "      <td>106</td>\n",
       "    </tr>\n",
       "    <tr>\n",
       "      <th>z</th>\n",
       "      <td>401</td>\n",
       "      <td>140</td>\n",
       "      <td>33</td>\n",
       "      <td>58</td>\n",
       "      <td>494</td>\n",
       "    </tr>\n",
       "  </tbody>\n",
       "</table>\n",
       "</div>"
      ],
      "text/plain": [
       "   Italien  Espagnol  Français  Anglais  Allemand\n",
       "a     4304      4728      3169     3276      2396\n",
       "b      430       621       341      569       727\n",
       "c     1651      1816      1374     1414      1087\n",
       "d     1520      2086      1555     1669      1898\n",
       "e     4523      5004      5618     4719      6604\n",
       "f      425       345       376      791       676\n",
       "g      893       610       559     1063      1368\n",
       "h      454       521       435     2117      1640\n",
       "i     4578      2885      3212     3239      3219\n",
       "j       64       200       212      121       115\n",
       "k      177       156       144      444       623\n",
       "l     2580      2366      2406     1572      1378\n",
       "m     1059      1094      1274      988      1191\n",
       "n     3183      3082      3170     3102      4102\n",
       "o     3401      3332      2239     2834      1262\n",
       "p     1020       911      1075      689       362\n",
       "q      116       261       447       26         5\n",
       "r     2613      2674      2769     2506      3134\n",
       "s     1949      2941      3347     2481      2454\n",
       "t     2567      1826      3046     3649      2629\n",
       "u     1113      1504      2248      901      1434\n",
       "v      766       418       609      461       432\n",
       "w       83        42        44      723       637\n",
       "x       15        52       127       51        27\n",
       "y      115       385       171      537       106\n",
       "z      401       140        33       58       494"
      ]
     },
     "execution_count": 10,
     "metadata": {},
     "output_type": "execute_result"
    }
   ],
   "source": [
    "df = df.replace(np.NaN, 0, regex=True)\n",
    "df"
   ]
  },
  {
   "cell_type": "markdown",
   "metadata": {},
   "source": [
    "- On peut ensuite ranger les caractères par nombre d'occurences, par langue, de facon croissante, afin de pouvoir observer lesquelles sont plus fréquentes et lesquelles ne le sont pas. "
   ]
  },
  {
   "cell_type": "code",
   "execution_count": 11,
   "metadata": {},
   "outputs": [
    {
     "data": {
      "text/plain": [
       "z      33\n",
       "w      44\n",
       "x     127\n",
       "k     144\n",
       "y     171\n",
       "j     212\n",
       "b     341\n",
       "f     376\n",
       "h     435\n",
       "q     447\n",
       "g     559\n",
       "v     609\n",
       "p    1075\n",
       "m    1274\n",
       "c    1374\n",
       "d    1555\n",
       "o    2239\n",
       "u    2248\n",
       "l    2406\n",
       "r    2769\n",
       "t    3046\n",
       "a    3169\n",
       "n    3170\n",
       "i    3212\n",
       "s    3347\n",
       "e    5618\n",
       "Name: Français, dtype: int64"
      ]
     },
     "execution_count": 11,
     "metadata": {},
     "output_type": "execute_result"
    }
   ],
   "source": [
    "df[\"Français\"].sort_values()"
   ]
  },
  {
   "cell_type": "code",
   "execution_count": 12,
   "metadata": {},
   "outputs": [
    {
     "data": {
      "text/plain": [
       "q      26\n",
       "x      51\n",
       "z      58\n",
       "j     121\n",
       "k     444\n",
       "v     461\n",
       "y     537\n",
       "b     569\n",
       "p     689\n",
       "w     723\n",
       "f     791\n",
       "u     901\n",
       "m     988\n",
       "g    1063\n",
       "c    1414\n",
       "l    1572\n",
       "d    1669\n",
       "h    2117\n",
       "s    2481\n",
       "r    2506\n",
       "o    2834\n",
       "n    3102\n",
       "i    3239\n",
       "a    3276\n",
       "t    3649\n",
       "e    4719\n",
       "Name: Anglais, dtype: int64"
      ]
     },
     "execution_count": 12,
     "metadata": {},
     "output_type": "execute_result"
    }
   ],
   "source": [
    "df[\"Anglais\"].sort_values()"
   ]
  },
  {
   "cell_type": "code",
   "execution_count": 13,
   "metadata": {},
   "outputs": [
    {
     "data": {
      "text/plain": [
       "q       5\n",
       "x      27\n",
       "y     106\n",
       "j     115\n",
       "p     362\n",
       "v     432\n",
       "z     494\n",
       "k     623\n",
       "w     637\n",
       "f     676\n",
       "b     727\n",
       "c    1087\n",
       "m    1191\n",
       "o    1262\n",
       "g    1368\n",
       "l    1378\n",
       "u    1434\n",
       "h    1640\n",
       "d    1898\n",
       "a    2396\n",
       "s    2454\n",
       "t    2629\n",
       "r    3134\n",
       "i    3219\n",
       "n    4102\n",
       "e    6604\n",
       "Name: Allemand, dtype: int64"
      ]
     },
     "execution_count": 13,
     "metadata": {},
     "output_type": "execute_result"
    }
   ],
   "source": [
    "df[\"Allemand\"].sort_values()"
   ]
  },
  {
   "cell_type": "code",
   "execution_count": 14,
   "metadata": {},
   "outputs": [
    {
     "data": {
      "text/plain": [
       "w      42\n",
       "x      52\n",
       "z     140\n",
       "k     156\n",
       "j     200\n",
       "q     261\n",
       "f     345\n",
       "y     385\n",
       "v     418\n",
       "h     521\n",
       "g     610\n",
       "b     621\n",
       "p     911\n",
       "m    1094\n",
       "u    1504\n",
       "c    1816\n",
       "t    1826\n",
       "d    2086\n",
       "l    2366\n",
       "r    2674\n",
       "i    2885\n",
       "s    2941\n",
       "n    3082\n",
       "o    3332\n",
       "a    4728\n",
       "e    5004\n",
       "Name: Espagnol, dtype: int64"
      ]
     },
     "execution_count": 14,
     "metadata": {},
     "output_type": "execute_result"
    }
   ],
   "source": [
    "df[\"Espagnol\"].sort_values()"
   ]
  },
  {
   "cell_type": "code",
   "execution_count": 15,
   "metadata": {},
   "outputs": [
    {
     "data": {
      "text/plain": [
       "x      15\n",
       "j      64\n",
       "w      83\n",
       "y     115\n",
       "q     116\n",
       "k     177\n",
       "z     401\n",
       "f     425\n",
       "b     430\n",
       "h     454\n",
       "v     766\n",
       "g     893\n",
       "p    1020\n",
       "m    1059\n",
       "u    1113\n",
       "d    1520\n",
       "c    1651\n",
       "s    1949\n",
       "t    2567\n",
       "l    2580\n",
       "r    2613\n",
       "n    3183\n",
       "o    3401\n",
       "a    4304\n",
       "e    4523\n",
       "i    4578\n",
       "Name: Italien, dtype: int64"
      ]
     },
     "execution_count": 15,
     "metadata": {},
     "output_type": "execute_result"
    }
   ],
   "source": [
    "df[\"Italien\"].sort_values()"
   ]
  },
  {
   "cell_type": "markdown",
   "metadata": {},
   "source": [
    "# Partie 2 :"
   ]
  },
  {
   "cell_type": "markdown",
   "metadata": {},
   "source": [
    "## Représentation des données."
   ]
  },
  {
   "cell_type": "markdown",
   "metadata": {},
   "source": [
    "- Contruction d'un diagrame en baton pour avoir la dispersion des caractères pour chaque langue afin de determiner ceux qui sont les plus fréquents et les plus dicriminants d'une langue à l'autre.\n",
    "- Il nous permettra par la suite de determiner les caractères que nous allons utilisés pour notre ensemble d'entrainement que nous allons nommé \"d\" par la suite"
   ]
  },
  {
   "cell_type": "code",
   "execution_count": 16,
   "metadata": {},
   "outputs": [
    {
     "data": {
      "text/plain": [
       "<AxesSubplot:>"
      ]
     },
     "execution_count": 16,
     "metadata": {},
     "output_type": "execute_result"
    },
    {
     "data": {
      "image/png": "[encoded data removed]",
      "text/plain": [
       "<Figure size 1080x576 with 1 Axes>"
      ]
     },
     "metadata": {
      "needs_background": "light"
     },
     "output_type": "display_data"
    }
   ],
   "source": [
    "df.plot(kind='bar',figsize=[15,8])"
   ]
  },
  {
   "cell_type": "markdown",
   "metadata": {},
   "source": [
    "- L'hypothèse est vérifiée, on peut observer à travers ce graphique que la distribution des caractères varie d'une langue à l'autre.\n",
    "- On pourra donc s'en servir pour faire de la détection de langues.\n",
    "- On va donc faire de l'exploration de données pour tester cette hypothèse:\n",
    "    - quels sont les différents caractères utilisés dans les différentes langues?\n",
    "    - quelle est la fréquence d'apparition de chacun des caractères?\n"
   ]
  },
  {
   "cell_type": "markdown",
   "metadata": {},
   "source": [
    "- On choisi donc un d en fonction des caractères les plus fréquents et discriminants. Ici on prendra les 4 caractères les plus présents dans chacune des langues. Ce qui répondra à notre première question."
   ]
  },
  {
   "cell_type": "code",
   "execution_count": 17,
   "metadata": {},
   "outputs": [],
   "source": [
    "d=['a', 'e', 'n', 'u', 'p', 'i', 's', 'w','o', 'l', 'h','y','b','r','j','t'] "
   ]
  },
  {
   "cell_type": "markdown",
   "metadata": {},
   "source": [
    "## Constitution d'un ensemble d'entraînement."
   ]
  },
  {
   "cell_type": "markdown",
   "metadata": {},
   "source": [
    "## 1) Fragmentation des textes."
   ]
  },
  {
   "cell_type": "markdown",
   "metadata": {},
   "source": [
    "- Afin d'avoir un résultat cohérent, on a prit comme l_min la racine carré de la longueurs des textes, ce qui donne donc l_min = 200. Cette manière de faire permet d'avoir une même taille de fragment pour tou le texte, ainsi cela permetra d'avoir une meilleurs precision pour la prediction de la langue."
   ]
  },
  {
   "cell_type": "code",
   "execution_count": 18,
   "metadata": {},
   "outputs": [],
   "source": [
    "l_min=math.ceil(np.sqrt(40000))"
   ]
  },
  {
   "cell_type": "code",
   "execution_count": 19,
   "metadata": {},
   "outputs": [
    {
     "data": {
      "text/plain": [
       "200"
      ]
     },
     "execution_count": 19,
     "metadata": {},
     "output_type": "execute_result"
    }
   ],
   "source": [
    "l_min"
   ]
  },
  {
   "cell_type": "markdown",
   "metadata": {},
   "source": [
    "- La fonction que nous allons definir maintenant appelée \"les_fragment_du_texte(url,l_min)\"  va nous permetre de découper les textes récoltés dans l'étape précédente en fragments de textes qui seront les entrées d'un classifieur (ici l'algo de Knn)\n",
    "    - On dipose du meme texte en 5 langues: Français,Anglais,Allemand,Italien,Espagnol. \n",
    "    - Pour chaque texte, on le découpe par defaut en l_min=200 par morceaux pour avoir un total de n=N//l_min=200 fragments avec N la longueur du texte. \n",
    "    - Pour chaque entrée, on calcule la frequence de chaque caractère.\n",
    "    - N est suffisamment grand (N=40000) pour chaque texte pour ne pas avoir des fragments beaucoup trop petits\n",
    "    - On a chosi par defaut l_min ou la longueur de fragemnt egale 200 parce qu'il semble plus interesant (peut minimiser le plus possible le risque empirique et en generalisation), c'est en effet notre l_min choisi, nous veront par la suite si notre intuition est juste."
   ]
  },
  {
   "cell_type": "code",
   "execution_count": 20,
   "metadata": {},
   "outputs": [],
   "source": [
    "def les_fragment_du_texte(url,l_min=200):\n",
    "    \"\"\"Prend en argument un url et l_min la longeur des fragment et\n",
    "    retourne le texte fragmenté  sous forme d'une liste de n fragment de longueur l_min \n",
    "    \"\"\"\n",
    "    texte=texte_sans_c_speciaux(extraction_texte(url))\n",
    "    N=len(texte)\n",
    "    n=N//l_min\n",
    "    l=[]\n",
    "    while n>0:\n",
    "        n=n-1\n",
    "        l.append(texte[:l_min])\n",
    "        texte=texte[l_min:]\n",
    "    return l"
   ]
  },
  {
   "cell_type": "markdown",
   "metadata": {},
   "source": [
    "- Obtention des textes fragmenter des 5 langues."
   ]
  },
  {
   "cell_type": "code",
   "execution_count": 21,
   "metadata": {},
   "outputs": [],
   "source": [
    "frag_fr=les_fragment_du_texte(url[0],l_min)\n",
    "frag_en=les_fragment_du_texte(url[1],l_min)\n",
    "frag_de=les_fragment_du_texte(url[2],l_min)\n",
    "frag_es=les_fragment_du_texte(url[3],l_min)\n",
    "frag_it=les_fragment_du_texte(url[4],l_min)"
   ]
  },
  {
   "cell_type": "code",
   "execution_count": 22,
   "metadata": {},
   "outputs": [
    {
     "data": {
      "text/plain": [
       "(200, 200, 200, 200, 200)"
      ]
     },
     "execution_count": 22,
     "metadata": {},
     "output_type": "execute_result"
    }
   ],
   "source": [
    "len(frag_fr),len(frag_en),len(frag_de),len(frag_es),len(frag_it)"
   ]
  },
  {
   "cell_type": "markdown",
   "metadata": {},
   "source": [
    "- Résultat cohérent; en effet les textes sont tous limités à 40000 caractères et les fragment à 40000/200 = 200"
   ]
  },
  {
   "cell_type": "code",
   "execution_count": 23,
   "metadata": {},
   "outputs": [
    {
     "data": {
      "text/plain": [
       "200"
      ]
     },
     "execution_count": 23,
     "metadata": {},
     "output_type": "execute_result"
    }
   ],
   "source": [
    "n=len(frag_fr)\n",
    "n"
   ]
  },
  {
   "cell_type": "markdown",
   "metadata": {},
   "source": [
    "- Conlusion:\n",
    "    - d = ['a', 'e', 'n', 'u', 'p', 'i', 's', 'w','o', 'l', 'h','y','b','r','j','t'] Lettres les plus fréquentes et discriminantes.\n",
    "    - l_min = 200. Racine carré de 40 000.\n",
    "    - N = 40 000. Texte suffisamment grand partagé équitablement en 200 fragments de 200 caractères.\n",
    "    - n = ⌊N/l_min⌋ = 40 000/200 = 200"
   ]
  },
  {
   "cell_type": "markdown",
   "metadata": {},
   "source": [
    "## 2) Définition des instance d'apprentissage."
   ]
  },
  {
   "cell_type": "markdown",
   "metadata": {},
   "source": [
    "Nous allons definir fonction \"frequence(texte,list_of_car)\" qui nous permettre de calculer la frequenche de chaque element de notre ensemble \"d\" dans les fragments du texte. \n",
    "Pour chaque entrée, on calcule la fréquence de chaque caracte de notre ensemble \"d\". On a choisie donc d=['a', 'e', 'n', 'u', 'p', 'i', 's', 'w','o', 'l', 'h','y','b','r','j','t'] par defaut car c'est lui qui minismise nos risques le mieux parmis tous ceux q'on a essayer, nous le demontrerons egalement par la suite"
   ]
  },
  {
   "cell_type": "code",
   "execution_count": 24,
   "metadata": {},
   "outputs": [],
   "source": [
    "def frequence(texte,list_of_car=d):\n",
    "    \"\"\"Création d'une fonction fréquence qui prend en argument un texte et une liste de caractere,\n",
    "    calcul la frequence de chaque caractere de la liste\n",
    "    et retourne les frequences calculées sous forme de liste\"\"\"\n",
    "    li=[]\n",
    "    for c in list_of_car:\n",
    "        li.append(texte.count(c)/len(texte))\n",
    "    return li"
   ]
  },
  {
   "cell_type": "markdown",
   "metadata": {},
   "source": [
    "- Exemple de la fréquence de quelques lettres du texte en francais : "
   ]
  },
  {
   "cell_type": "code",
   "execution_count": 25,
   "metadata": {},
   "outputs": [
    {
     "data": {
      "text/plain": [
       "[0.079225, 0.083675, 0.14045, 0.000825]"
      ]
     },
     "execution_count": 25,
     "metadata": {},
     "output_type": "execute_result"
    }
   ],
   "source": [
    "frequence(texte_fr,[\"a\",\"s\",\"e\",\"z\"])"
   ]
  },
  {
   "cell_type": "markdown",
   "metadata": {},
   "source": [
    "- Création de 5 dataframes contenant les fréquences de chaque caractère sur les 200 fragments pour chacune des 5 langues."
   ]
  },
  {
   "cell_type": "markdown",
   "metadata": {},
   "source": [
    "la fonction datafrag est une Fonction qui permet de constituer une liste de liste des frequences de caractere de chaque fragment d'un texte. elle nous permtra de pouvoir créer des dataframes pour chaque langue."
   ]
  },
  {
   "cell_type": "code",
   "execution_count": 26,
   "metadata": {},
   "outputs": [],
   "source": [
    "def datafrag(url,list_of_car,l_min):\n",
    "    data=[]\n",
    "    for frag in les_fragment_du_texte(url,l_min):\n",
    "        data.append(frequence(frag,list_of_car))\n",
    "    return data"
   ]
  },
  {
   "cell_type": "markdown",
   "metadata": {},
   "source": [
    "La fonction que nous allons definir maintenant intitulée \"Instances(url,list_of_car=d,l_min,classe)\" nous permetra de construire un dataframe. Ce dataframe va etre composé en ligne par la frequence des elements de de l'ensemnbe \"d\" des diferements frangemnt d'un texte et  en colone par les elemnts de l'ensemble \"d\" et la classe du fragment."
   ]
  },
  {
   "cell_type": "code",
   "execution_count": 27,
   "metadata": {},
   "outputs": [],
   "source": [
    "def instances(url,list_of_car,l_min,classe):\n",
    "    frag=datafrag(url,list_of_car,l_min)\n",
    "    data=pd.DataFrame(frag,columns=list_of_car)\n",
    "    data[\"Classe\"]=classe\n",
    "    return data"
   ]
  },
  {
   "cell_type": "markdown",
   "metadata": {},
   "source": [
    "- Dataframme contenant les fréquences de chaque caractère des 200 fragments en Francais :"
   ]
  },
  {
   "cell_type": "code",
   "execution_count": 28,
   "metadata": {},
   "outputs": [
    {
     "data": {
      "text/html": [
       "<div>\n",
       "<style scoped>\n",
       "    .dataframe tbody tr th:only-of-type {\n",
       "        vertical-align: middle;\n",
       "    }\n",
       "\n",
       "    .dataframe tbody tr th {\n",
       "        vertical-align: top;\n",
       "    }\n",
       "\n",
       "    .dataframe thead th {\n",
       "        text-align: right;\n",
       "    }\n",
       "</style>\n",
       "<table border=\"1\" class=\"dataframe\">\n",
       "  <thead>\n",
       "    <tr style=\"text-align: right;\">\n",
       "      <th></th>\n",
       "      <th>a</th>\n",
       "      <th>e</th>\n",
       "      <th>n</th>\n",
       "      <th>u</th>\n",
       "      <th>p</th>\n",
       "      <th>i</th>\n",
       "      <th>s</th>\n",
       "      <th>w</th>\n",
       "      <th>o</th>\n",
       "      <th>l</th>\n",
       "      <th>h</th>\n",
       "      <th>y</th>\n",
       "      <th>b</th>\n",
       "      <th>r</th>\n",
       "      <th>j</th>\n",
       "      <th>t</th>\n",
       "      <th>Classe</th>\n",
       "    </tr>\n",
       "  </thead>\n",
       "  <tbody>\n",
       "    <tr>\n",
       "      <th>0</th>\n",
       "      <td>0.065</td>\n",
       "      <td>0.105</td>\n",
       "      <td>0.065</td>\n",
       "      <td>0.055</td>\n",
       "      <td>0.025</td>\n",
       "      <td>0.105</td>\n",
       "      <td>0.035</td>\n",
       "      <td>0.005</td>\n",
       "      <td>0.075</td>\n",
       "      <td>0.060</td>\n",
       "      <td>0.025</td>\n",
       "      <td>0.010</td>\n",
       "      <td>0.000</td>\n",
       "      <td>0.085</td>\n",
       "      <td>0.005</td>\n",
       "      <td>0.075</td>\n",
       "      <td>FR</td>\n",
       "    </tr>\n",
       "    <tr>\n",
       "      <th>1</th>\n",
       "      <td>0.095</td>\n",
       "      <td>0.130</td>\n",
       "      <td>0.100</td>\n",
       "      <td>0.030</td>\n",
       "      <td>0.030</td>\n",
       "      <td>0.100</td>\n",
       "      <td>0.070</td>\n",
       "      <td>0.000</td>\n",
       "      <td>0.050</td>\n",
       "      <td>0.050</td>\n",
       "      <td>0.010</td>\n",
       "      <td>0.000</td>\n",
       "      <td>0.005</td>\n",
       "      <td>0.070</td>\n",
       "      <td>0.005</td>\n",
       "      <td>0.105</td>\n",
       "      <td>FR</td>\n",
       "    </tr>\n",
       "    <tr>\n",
       "      <th>2</th>\n",
       "      <td>0.050</td>\n",
       "      <td>0.145</td>\n",
       "      <td>0.070</td>\n",
       "      <td>0.035</td>\n",
       "      <td>0.020</td>\n",
       "      <td>0.080</td>\n",
       "      <td>0.065</td>\n",
       "      <td>0.005</td>\n",
       "      <td>0.090</td>\n",
       "      <td>0.080</td>\n",
       "      <td>0.010</td>\n",
       "      <td>0.010</td>\n",
       "      <td>0.015</td>\n",
       "      <td>0.065</td>\n",
       "      <td>0.000</td>\n",
       "      <td>0.080</td>\n",
       "      <td>FR</td>\n",
       "    </tr>\n",
       "    <tr>\n",
       "      <th>3</th>\n",
       "      <td>0.105</td>\n",
       "      <td>0.100</td>\n",
       "      <td>0.090</td>\n",
       "      <td>0.050</td>\n",
       "      <td>0.030</td>\n",
       "      <td>0.085</td>\n",
       "      <td>0.055</td>\n",
       "      <td>0.000</td>\n",
       "      <td>0.060</td>\n",
       "      <td>0.075</td>\n",
       "      <td>0.020</td>\n",
       "      <td>0.010</td>\n",
       "      <td>0.015</td>\n",
       "      <td>0.070</td>\n",
       "      <td>0.010</td>\n",
       "      <td>0.080</td>\n",
       "      <td>FR</td>\n",
       "    </tr>\n",
       "    <tr>\n",
       "      <th>4</th>\n",
       "      <td>0.065</td>\n",
       "      <td>0.150</td>\n",
       "      <td>0.040</td>\n",
       "      <td>0.030</td>\n",
       "      <td>0.005</td>\n",
       "      <td>0.085</td>\n",
       "      <td>0.085</td>\n",
       "      <td>0.000</td>\n",
       "      <td>0.040</td>\n",
       "      <td>0.060</td>\n",
       "      <td>0.015</td>\n",
       "      <td>0.000</td>\n",
       "      <td>0.010</td>\n",
       "      <td>0.090</td>\n",
       "      <td>0.005</td>\n",
       "      <td>0.095</td>\n",
       "      <td>FR</td>\n",
       "    </tr>\n",
       "    <tr>\n",
       "      <th>...</th>\n",
       "      <td>...</td>\n",
       "      <td>...</td>\n",
       "      <td>...</td>\n",
       "      <td>...</td>\n",
       "      <td>...</td>\n",
       "      <td>...</td>\n",
       "      <td>...</td>\n",
       "      <td>...</td>\n",
       "      <td>...</td>\n",
       "      <td>...</td>\n",
       "      <td>...</td>\n",
       "      <td>...</td>\n",
       "      <td>...</td>\n",
       "      <td>...</td>\n",
       "      <td>...</td>\n",
       "      <td>...</td>\n",
       "      <td>...</td>\n",
       "    </tr>\n",
       "    <tr>\n",
       "      <th>195</th>\n",
       "      <td>0.055</td>\n",
       "      <td>0.185</td>\n",
       "      <td>0.070</td>\n",
       "      <td>0.040</td>\n",
       "      <td>0.040</td>\n",
       "      <td>0.065</td>\n",
       "      <td>0.110</td>\n",
       "      <td>0.000</td>\n",
       "      <td>0.060</td>\n",
       "      <td>0.070</td>\n",
       "      <td>0.005</td>\n",
       "      <td>0.005</td>\n",
       "      <td>0.010</td>\n",
       "      <td>0.055</td>\n",
       "      <td>0.005</td>\n",
       "      <td>0.080</td>\n",
       "      <td>FR</td>\n",
       "    </tr>\n",
       "    <tr>\n",
       "      <th>196</th>\n",
       "      <td>0.080</td>\n",
       "      <td>0.150</td>\n",
       "      <td>0.100</td>\n",
       "      <td>0.055</td>\n",
       "      <td>0.040</td>\n",
       "      <td>0.075</td>\n",
       "      <td>0.055</td>\n",
       "      <td>0.000</td>\n",
       "      <td>0.065</td>\n",
       "      <td>0.070</td>\n",
       "      <td>0.015</td>\n",
       "      <td>0.005</td>\n",
       "      <td>0.010</td>\n",
       "      <td>0.055</td>\n",
       "      <td>0.005</td>\n",
       "      <td>0.085</td>\n",
       "      <td>FR</td>\n",
       "    </tr>\n",
       "    <tr>\n",
       "      <th>197</th>\n",
       "      <td>0.080</td>\n",
       "      <td>0.175</td>\n",
       "      <td>0.080</td>\n",
       "      <td>0.030</td>\n",
       "      <td>0.025</td>\n",
       "      <td>0.070</td>\n",
       "      <td>0.065</td>\n",
       "      <td>0.000</td>\n",
       "      <td>0.060</td>\n",
       "      <td>0.050</td>\n",
       "      <td>0.005</td>\n",
       "      <td>0.005</td>\n",
       "      <td>0.005</td>\n",
       "      <td>0.085</td>\n",
       "      <td>0.005</td>\n",
       "      <td>0.095</td>\n",
       "      <td>FR</td>\n",
       "    </tr>\n",
       "    <tr>\n",
       "      <th>198</th>\n",
       "      <td>0.040</td>\n",
       "      <td>0.165</td>\n",
       "      <td>0.115</td>\n",
       "      <td>0.100</td>\n",
       "      <td>0.015</td>\n",
       "      <td>0.100</td>\n",
       "      <td>0.080</td>\n",
       "      <td>0.000</td>\n",
       "      <td>0.055</td>\n",
       "      <td>0.040</td>\n",
       "      <td>0.030</td>\n",
       "      <td>0.000</td>\n",
       "      <td>0.005</td>\n",
       "      <td>0.040</td>\n",
       "      <td>0.025</td>\n",
       "      <td>0.060</td>\n",
       "      <td>FR</td>\n",
       "    </tr>\n",
       "    <tr>\n",
       "      <th>199</th>\n",
       "      <td>0.100</td>\n",
       "      <td>0.145</td>\n",
       "      <td>0.085</td>\n",
       "      <td>0.070</td>\n",
       "      <td>0.040</td>\n",
       "      <td>0.080</td>\n",
       "      <td>0.055</td>\n",
       "      <td>0.000</td>\n",
       "      <td>0.065</td>\n",
       "      <td>0.065</td>\n",
       "      <td>0.010</td>\n",
       "      <td>0.005</td>\n",
       "      <td>0.000</td>\n",
       "      <td>0.045</td>\n",
       "      <td>0.000</td>\n",
       "      <td>0.065</td>\n",
       "      <td>FR</td>\n",
       "    </tr>\n",
       "  </tbody>\n",
       "</table>\n",
       "<p>200 rows × 17 columns</p>\n",
       "</div>"
      ],
      "text/plain": [
       "         a      e      n      u      p      i      s      w      o      l  \\\n",
       "0    0.065  0.105  0.065  0.055  0.025  0.105  0.035  0.005  0.075  0.060   \n",
       "1    0.095  0.130  0.100  0.030  0.030  0.100  0.070  0.000  0.050  0.050   \n",
       "2    0.050  0.145  0.070  0.035  0.020  0.080  0.065  0.005  0.090  0.080   \n",
       "3    0.105  0.100  0.090  0.050  0.030  0.085  0.055  0.000  0.060  0.075   \n",
       "4    0.065  0.150  0.040  0.030  0.005  0.085  0.085  0.000  0.040  0.060   \n",
       "..     ...    ...    ...    ...    ...    ...    ...    ...    ...    ...   \n",
       "195  0.055  0.185  0.070  0.040  0.040  0.065  0.110  0.000  0.060  0.070   \n",
       "196  0.080  0.150  0.100  0.055  0.040  0.075  0.055  0.000  0.065  0.070   \n",
       "197  0.080  0.175  0.080  0.030  0.025  0.070  0.065  0.000  0.060  0.050   \n",
       "198  0.040  0.165  0.115  0.100  0.015  0.100  0.080  0.000  0.055  0.040   \n",
       "199  0.100  0.145  0.085  0.070  0.040  0.080  0.055  0.000  0.065  0.065   \n",
       "\n",
       "         h      y      b      r      j      t Classe  \n",
       "0    0.025  0.010  0.000  0.085  0.005  0.075     FR  \n",
       "1    0.010  0.000  0.005  0.070  0.005  0.105     FR  \n",
       "2    0.010  0.010  0.015  0.065  0.000  0.080     FR  \n",
       "3    0.020  0.010  0.015  0.070  0.010  0.080     FR  \n",
       "4    0.015  0.000  0.010  0.090  0.005  0.095     FR  \n",
       "..     ...    ...    ...    ...    ...    ...    ...  \n",
       "195  0.005  0.005  0.010  0.055  0.005  0.080     FR  \n",
       "196  0.015  0.005  0.010  0.055  0.005  0.085     FR  \n",
       "197  0.005  0.005  0.005  0.085  0.005  0.095     FR  \n",
       "198  0.030  0.000  0.005  0.040  0.025  0.060     FR  \n",
       "199  0.010  0.005  0.000  0.045  0.000  0.065     FR  \n",
       "\n",
       "[200 rows x 17 columns]"
      ]
     },
     "execution_count": 28,
     "metadata": {},
     "output_type": "execute_result"
    }
   ],
   "source": [
    "data_fr=instances(url[0],d,l_min,classe[0])\n",
    "data_fr"
   ]
  },
  {
   "cell_type": "markdown",
   "metadata": {},
   "source": [
    "- Dataframme contenant les fréquences de chaque caractère des 202 fragments en Anglais :"
   ]
  },
  {
   "cell_type": "code",
   "execution_count": 29,
   "metadata": {},
   "outputs": [
    {
     "data": {
      "text/html": [
       "<div>\n",
       "<style scoped>\n",
       "    .dataframe tbody tr th:only-of-type {\n",
       "        vertical-align: middle;\n",
       "    }\n",
       "\n",
       "    .dataframe tbody tr th {\n",
       "        vertical-align: top;\n",
       "    }\n",
       "\n",
       "    .dataframe thead th {\n",
       "        text-align: right;\n",
       "    }\n",
       "</style>\n",
       "<table border=\"1\" class=\"dataframe\">\n",
       "  <thead>\n",
       "    <tr style=\"text-align: right;\">\n",
       "      <th></th>\n",
       "      <th>a</th>\n",
       "      <th>e</th>\n",
       "      <th>n</th>\n",
       "      <th>u</th>\n",
       "      <th>p</th>\n",
       "      <th>i</th>\n",
       "      <th>s</th>\n",
       "      <th>w</th>\n",
       "      <th>o</th>\n",
       "      <th>l</th>\n",
       "      <th>h</th>\n",
       "      <th>y</th>\n",
       "      <th>b</th>\n",
       "      <th>r</th>\n",
       "      <th>j</th>\n",
       "      <th>t</th>\n",
       "      <th>Classe</th>\n",
       "    </tr>\n",
       "  </thead>\n",
       "  <tbody>\n",
       "    <tr>\n",
       "      <th>0</th>\n",
       "      <td>0.125</td>\n",
       "      <td>0.085</td>\n",
       "      <td>0.085</td>\n",
       "      <td>0.015</td>\n",
       "      <td>0.020</td>\n",
       "      <td>0.110</td>\n",
       "      <td>0.065</td>\n",
       "      <td>0.010</td>\n",
       "      <td>0.035</td>\n",
       "      <td>0.040</td>\n",
       "      <td>0.040</td>\n",
       "      <td>0.005</td>\n",
       "      <td>0.020</td>\n",
       "      <td>0.070</td>\n",
       "      <td>0.015</td>\n",
       "      <td>0.070</td>\n",
       "      <td>EN</td>\n",
       "    </tr>\n",
       "    <tr>\n",
       "      <th>1</th>\n",
       "      <td>0.080</td>\n",
       "      <td>0.080</td>\n",
       "      <td>0.105</td>\n",
       "      <td>0.010</td>\n",
       "      <td>0.005</td>\n",
       "      <td>0.150</td>\n",
       "      <td>0.070</td>\n",
       "      <td>0.005</td>\n",
       "      <td>0.050</td>\n",
       "      <td>0.040</td>\n",
       "      <td>0.060</td>\n",
       "      <td>0.010</td>\n",
       "      <td>0.015</td>\n",
       "      <td>0.045</td>\n",
       "      <td>0.000</td>\n",
       "      <td>0.075</td>\n",
       "      <td>EN</td>\n",
       "    </tr>\n",
       "    <tr>\n",
       "      <th>2</th>\n",
       "      <td>0.070</td>\n",
       "      <td>0.105</td>\n",
       "      <td>0.060</td>\n",
       "      <td>0.010</td>\n",
       "      <td>0.020</td>\n",
       "      <td>0.090</td>\n",
       "      <td>0.065</td>\n",
       "      <td>0.000</td>\n",
       "      <td>0.065</td>\n",
       "      <td>0.035</td>\n",
       "      <td>0.055</td>\n",
       "      <td>0.010</td>\n",
       "      <td>0.030</td>\n",
       "      <td>0.085</td>\n",
       "      <td>0.000</td>\n",
       "      <td>0.100</td>\n",
       "      <td>EN</td>\n",
       "    </tr>\n",
       "    <tr>\n",
       "      <th>3</th>\n",
       "      <td>0.080</td>\n",
       "      <td>0.150</td>\n",
       "      <td>0.100</td>\n",
       "      <td>0.015</td>\n",
       "      <td>0.020</td>\n",
       "      <td>0.065</td>\n",
       "      <td>0.055</td>\n",
       "      <td>0.010</td>\n",
       "      <td>0.060</td>\n",
       "      <td>0.055</td>\n",
       "      <td>0.065</td>\n",
       "      <td>0.010</td>\n",
       "      <td>0.020</td>\n",
       "      <td>0.050</td>\n",
       "      <td>0.000</td>\n",
       "      <td>0.050</td>\n",
       "      <td>EN</td>\n",
       "    </tr>\n",
       "    <tr>\n",
       "      <th>4</th>\n",
       "      <td>0.060</td>\n",
       "      <td>0.145</td>\n",
       "      <td>0.050</td>\n",
       "      <td>0.015</td>\n",
       "      <td>0.035</td>\n",
       "      <td>0.065</td>\n",
       "      <td>0.090</td>\n",
       "      <td>0.020</td>\n",
       "      <td>0.075</td>\n",
       "      <td>0.040</td>\n",
       "      <td>0.065</td>\n",
       "      <td>0.010</td>\n",
       "      <td>0.005</td>\n",
       "      <td>0.060</td>\n",
       "      <td>0.000</td>\n",
       "      <td>0.110</td>\n",
       "      <td>EN</td>\n",
       "    </tr>\n",
       "    <tr>\n",
       "      <th>...</th>\n",
       "      <td>...</td>\n",
       "      <td>...</td>\n",
       "      <td>...</td>\n",
       "      <td>...</td>\n",
       "      <td>...</td>\n",
       "      <td>...</td>\n",
       "      <td>...</td>\n",
       "      <td>...</td>\n",
       "      <td>...</td>\n",
       "      <td>...</td>\n",
       "      <td>...</td>\n",
       "      <td>...</td>\n",
       "      <td>...</td>\n",
       "      <td>...</td>\n",
       "      <td>...</td>\n",
       "      <td>...</td>\n",
       "      <td>...</td>\n",
       "    </tr>\n",
       "    <tr>\n",
       "      <th>195</th>\n",
       "      <td>0.070</td>\n",
       "      <td>0.125</td>\n",
       "      <td>0.045</td>\n",
       "      <td>0.045</td>\n",
       "      <td>0.010</td>\n",
       "      <td>0.075</td>\n",
       "      <td>0.090</td>\n",
       "      <td>0.020</td>\n",
       "      <td>0.055</td>\n",
       "      <td>0.050</td>\n",
       "      <td>0.040</td>\n",
       "      <td>0.020</td>\n",
       "      <td>0.005</td>\n",
       "      <td>0.075</td>\n",
       "      <td>0.005</td>\n",
       "      <td>0.115</td>\n",
       "      <td>EN</td>\n",
       "    </tr>\n",
       "    <tr>\n",
       "      <th>196</th>\n",
       "      <td>0.080</td>\n",
       "      <td>0.110</td>\n",
       "      <td>0.065</td>\n",
       "      <td>0.030</td>\n",
       "      <td>0.020</td>\n",
       "      <td>0.105</td>\n",
       "      <td>0.055</td>\n",
       "      <td>0.020</td>\n",
       "      <td>0.100</td>\n",
       "      <td>0.060</td>\n",
       "      <td>0.035</td>\n",
       "      <td>0.000</td>\n",
       "      <td>0.010</td>\n",
       "      <td>0.065</td>\n",
       "      <td>0.000</td>\n",
       "      <td>0.095</td>\n",
       "      <td>EN</td>\n",
       "    </tr>\n",
       "    <tr>\n",
       "      <th>197</th>\n",
       "      <td>0.075</td>\n",
       "      <td>0.100</td>\n",
       "      <td>0.075</td>\n",
       "      <td>0.050</td>\n",
       "      <td>0.020</td>\n",
       "      <td>0.080</td>\n",
       "      <td>0.040</td>\n",
       "      <td>0.025</td>\n",
       "      <td>0.090</td>\n",
       "      <td>0.035</td>\n",
       "      <td>0.045</td>\n",
       "      <td>0.015</td>\n",
       "      <td>0.005</td>\n",
       "      <td>0.080</td>\n",
       "      <td>0.005</td>\n",
       "      <td>0.095</td>\n",
       "      <td>EN</td>\n",
       "    </tr>\n",
       "    <tr>\n",
       "      <th>198</th>\n",
       "      <td>0.050</td>\n",
       "      <td>0.120</td>\n",
       "      <td>0.060</td>\n",
       "      <td>0.015</td>\n",
       "      <td>0.025</td>\n",
       "      <td>0.120</td>\n",
       "      <td>0.060</td>\n",
       "      <td>0.010</td>\n",
       "      <td>0.065</td>\n",
       "      <td>0.030</td>\n",
       "      <td>0.055</td>\n",
       "      <td>0.000</td>\n",
       "      <td>0.010</td>\n",
       "      <td>0.070</td>\n",
       "      <td>0.005</td>\n",
       "      <td>0.105</td>\n",
       "      <td>EN</td>\n",
       "    </tr>\n",
       "    <tr>\n",
       "      <th>199</th>\n",
       "      <td>0.085</td>\n",
       "      <td>0.110</td>\n",
       "      <td>0.080</td>\n",
       "      <td>0.020</td>\n",
       "      <td>0.040</td>\n",
       "      <td>0.085</td>\n",
       "      <td>0.050</td>\n",
       "      <td>0.025</td>\n",
       "      <td>0.095</td>\n",
       "      <td>0.035</td>\n",
       "      <td>0.035</td>\n",
       "      <td>0.015</td>\n",
       "      <td>0.020</td>\n",
       "      <td>0.040</td>\n",
       "      <td>0.005</td>\n",
       "      <td>0.085</td>\n",
       "      <td>EN</td>\n",
       "    </tr>\n",
       "  </tbody>\n",
       "</table>\n",
       "<p>200 rows × 17 columns</p>\n",
       "</div>"
      ],
      "text/plain": [
       "         a      e      n      u      p      i      s      w      o      l  \\\n",
       "0    0.125  0.085  0.085  0.015  0.020  0.110  0.065  0.010  0.035  0.040   \n",
       "1    0.080  0.080  0.105  0.010  0.005  0.150  0.070  0.005  0.050  0.040   \n",
       "2    0.070  0.105  0.060  0.010  0.020  0.090  0.065  0.000  0.065  0.035   \n",
       "3    0.080  0.150  0.100  0.015  0.020  0.065  0.055  0.010  0.060  0.055   \n",
       "4    0.060  0.145  0.050  0.015  0.035  0.065  0.090  0.020  0.075  0.040   \n",
       "..     ...    ...    ...    ...    ...    ...    ...    ...    ...    ...   \n",
       "195  0.070  0.125  0.045  0.045  0.010  0.075  0.090  0.020  0.055  0.050   \n",
       "196  0.080  0.110  0.065  0.030  0.020  0.105  0.055  0.020  0.100  0.060   \n",
       "197  0.075  0.100  0.075  0.050  0.020  0.080  0.040  0.025  0.090  0.035   \n",
       "198  0.050  0.120  0.060  0.015  0.025  0.120  0.060  0.010  0.065  0.030   \n",
       "199  0.085  0.110  0.080  0.020  0.040  0.085  0.050  0.025  0.095  0.035   \n",
       "\n",
       "         h      y      b      r      j      t Classe  \n",
       "0    0.040  0.005  0.020  0.070  0.015  0.070     EN  \n",
       "1    0.060  0.010  0.015  0.045  0.000  0.075     EN  \n",
       "2    0.055  0.010  0.030  0.085  0.000  0.100     EN  \n",
       "3    0.065  0.010  0.020  0.050  0.000  0.050     EN  \n",
       "4    0.065  0.010  0.005  0.060  0.000  0.110     EN  \n",
       "..     ...    ...    ...    ...    ...    ...    ...  \n",
       "195  0.040  0.020  0.005  0.075  0.005  0.115     EN  \n",
       "196  0.035  0.000  0.010  0.065  0.000  0.095     EN  \n",
       "197  0.045  0.015  0.005  0.080  0.005  0.095     EN  \n",
       "198  0.055  0.000  0.010  0.070  0.005  0.105     EN  \n",
       "199  0.035  0.015  0.020  0.040  0.005  0.085     EN  \n",
       "\n",
       "[200 rows x 17 columns]"
      ]
     },
     "execution_count": 29,
     "metadata": {},
     "output_type": "execute_result"
    }
   ],
   "source": [
    "data_en=instances(url[1],d,l_min,classe[1])\n",
    "data_en"
   ]
  },
  {
   "cell_type": "markdown",
   "metadata": {},
   "source": [
    "- Dataframme contenant les fréquences de chaque caractère des 202 fragments en Allemand :"
   ]
  },
  {
   "cell_type": "code",
   "execution_count": 30,
   "metadata": {},
   "outputs": [
    {
     "data": {
      "text/html": [
       "<div>\n",
       "<style scoped>\n",
       "    .dataframe tbody tr th:only-of-type {\n",
       "        vertical-align: middle;\n",
       "    }\n",
       "\n",
       "    .dataframe tbody tr th {\n",
       "        vertical-align: top;\n",
       "    }\n",
       "\n",
       "    .dataframe thead th {\n",
       "        text-align: right;\n",
       "    }\n",
       "</style>\n",
       "<table border=\"1\" class=\"dataframe\">\n",
       "  <thead>\n",
       "    <tr style=\"text-align: right;\">\n",
       "      <th></th>\n",
       "      <th>a</th>\n",
       "      <th>e</th>\n",
       "      <th>n</th>\n",
       "      <th>u</th>\n",
       "      <th>p</th>\n",
       "      <th>i</th>\n",
       "      <th>s</th>\n",
       "      <th>w</th>\n",
       "      <th>o</th>\n",
       "      <th>l</th>\n",
       "      <th>h</th>\n",
       "      <th>y</th>\n",
       "      <th>b</th>\n",
       "      <th>r</th>\n",
       "      <th>j</th>\n",
       "      <th>t</th>\n",
       "      <th>Classe</th>\n",
       "    </tr>\n",
       "  </thead>\n",
       "  <tbody>\n",
       "    <tr>\n",
       "      <th>0</th>\n",
       "      <td>0.100</td>\n",
       "      <td>0.150</td>\n",
       "      <td>0.095</td>\n",
       "      <td>0.030</td>\n",
       "      <td>0.025</td>\n",
       "      <td>0.085</td>\n",
       "      <td>0.055</td>\n",
       "      <td>0.010</td>\n",
       "      <td>0.010</td>\n",
       "      <td>0.045</td>\n",
       "      <td>0.030</td>\n",
       "      <td>0.000</td>\n",
       "      <td>0.010</td>\n",
       "      <td>0.120</td>\n",
       "      <td>0.015</td>\n",
       "      <td>0.070</td>\n",
       "      <td>DE</td>\n",
       "    </tr>\n",
       "    <tr>\n",
       "      <th>1</th>\n",
       "      <td>0.050</td>\n",
       "      <td>0.185</td>\n",
       "      <td>0.075</td>\n",
       "      <td>0.040</td>\n",
       "      <td>0.015</td>\n",
       "      <td>0.075</td>\n",
       "      <td>0.045</td>\n",
       "      <td>0.015</td>\n",
       "      <td>0.020</td>\n",
       "      <td>0.015</td>\n",
       "      <td>0.035</td>\n",
       "      <td>0.000</td>\n",
       "      <td>0.015</td>\n",
       "      <td>0.125</td>\n",
       "      <td>0.005</td>\n",
       "      <td>0.065</td>\n",
       "      <td>DE</td>\n",
       "    </tr>\n",
       "    <tr>\n",
       "      <th>2</th>\n",
       "      <td>0.080</td>\n",
       "      <td>0.135</td>\n",
       "      <td>0.130</td>\n",
       "      <td>0.030</td>\n",
       "      <td>0.015</td>\n",
       "      <td>0.090</td>\n",
       "      <td>0.085</td>\n",
       "      <td>0.010</td>\n",
       "      <td>0.020</td>\n",
       "      <td>0.035</td>\n",
       "      <td>0.030</td>\n",
       "      <td>0.000</td>\n",
       "      <td>0.005</td>\n",
       "      <td>0.070</td>\n",
       "      <td>0.000</td>\n",
       "      <td>0.075</td>\n",
       "      <td>DE</td>\n",
       "    </tr>\n",
       "    <tr>\n",
       "      <th>3</th>\n",
       "      <td>0.050</td>\n",
       "      <td>0.180</td>\n",
       "      <td>0.090</td>\n",
       "      <td>0.045</td>\n",
       "      <td>0.000</td>\n",
       "      <td>0.065</td>\n",
       "      <td>0.080</td>\n",
       "      <td>0.030</td>\n",
       "      <td>0.015</td>\n",
       "      <td>0.030</td>\n",
       "      <td>0.060</td>\n",
       "      <td>0.000</td>\n",
       "      <td>0.015</td>\n",
       "      <td>0.075</td>\n",
       "      <td>0.000</td>\n",
       "      <td>0.055</td>\n",
       "      <td>DE</td>\n",
       "    </tr>\n",
       "    <tr>\n",
       "      <th>4</th>\n",
       "      <td>0.060</td>\n",
       "      <td>0.170</td>\n",
       "      <td>0.100</td>\n",
       "      <td>0.020</td>\n",
       "      <td>0.015</td>\n",
       "      <td>0.110</td>\n",
       "      <td>0.075</td>\n",
       "      <td>0.015</td>\n",
       "      <td>0.020</td>\n",
       "      <td>0.050</td>\n",
       "      <td>0.050</td>\n",
       "      <td>0.000</td>\n",
       "      <td>0.015</td>\n",
       "      <td>0.085</td>\n",
       "      <td>0.000</td>\n",
       "      <td>0.060</td>\n",
       "      <td>DE</td>\n",
       "    </tr>\n",
       "    <tr>\n",
       "      <th>...</th>\n",
       "      <td>...</td>\n",
       "      <td>...</td>\n",
       "      <td>...</td>\n",
       "      <td>...</td>\n",
       "      <td>...</td>\n",
       "      <td>...</td>\n",
       "      <td>...</td>\n",
       "      <td>...</td>\n",
       "      <td>...</td>\n",
       "      <td>...</td>\n",
       "      <td>...</td>\n",
       "      <td>...</td>\n",
       "      <td>...</td>\n",
       "      <td>...</td>\n",
       "      <td>...</td>\n",
       "      <td>...</td>\n",
       "      <td>...</td>\n",
       "    </tr>\n",
       "    <tr>\n",
       "      <th>195</th>\n",
       "      <td>0.060</td>\n",
       "      <td>0.160</td>\n",
       "      <td>0.085</td>\n",
       "      <td>0.055</td>\n",
       "      <td>0.015</td>\n",
       "      <td>0.070</td>\n",
       "      <td>0.055</td>\n",
       "      <td>0.015</td>\n",
       "      <td>0.025</td>\n",
       "      <td>0.040</td>\n",
       "      <td>0.050</td>\n",
       "      <td>0.000</td>\n",
       "      <td>0.015</td>\n",
       "      <td>0.105</td>\n",
       "      <td>0.005</td>\n",
       "      <td>0.045</td>\n",
       "      <td>DE</td>\n",
       "    </tr>\n",
       "    <tr>\n",
       "      <th>196</th>\n",
       "      <td>0.055</td>\n",
       "      <td>0.150</td>\n",
       "      <td>0.085</td>\n",
       "      <td>0.035</td>\n",
       "      <td>0.010</td>\n",
       "      <td>0.075</td>\n",
       "      <td>0.065</td>\n",
       "      <td>0.015</td>\n",
       "      <td>0.020</td>\n",
       "      <td>0.030</td>\n",
       "      <td>0.065</td>\n",
       "      <td>0.000</td>\n",
       "      <td>0.015</td>\n",
       "      <td>0.075</td>\n",
       "      <td>0.000</td>\n",
       "      <td>0.065</td>\n",
       "      <td>DE</td>\n",
       "    </tr>\n",
       "    <tr>\n",
       "      <th>197</th>\n",
       "      <td>0.090</td>\n",
       "      <td>0.125</td>\n",
       "      <td>0.095</td>\n",
       "      <td>0.045</td>\n",
       "      <td>0.020</td>\n",
       "      <td>0.085</td>\n",
       "      <td>0.085</td>\n",
       "      <td>0.015</td>\n",
       "      <td>0.035</td>\n",
       "      <td>0.045</td>\n",
       "      <td>0.055</td>\n",
       "      <td>0.000</td>\n",
       "      <td>0.015</td>\n",
       "      <td>0.070</td>\n",
       "      <td>0.005</td>\n",
       "      <td>0.045</td>\n",
       "      <td>DE</td>\n",
       "    </tr>\n",
       "    <tr>\n",
       "      <th>198</th>\n",
       "      <td>0.040</td>\n",
       "      <td>0.120</td>\n",
       "      <td>0.100</td>\n",
       "      <td>0.035</td>\n",
       "      <td>0.005</td>\n",
       "      <td>0.115</td>\n",
       "      <td>0.085</td>\n",
       "      <td>0.015</td>\n",
       "      <td>0.050</td>\n",
       "      <td>0.035</td>\n",
       "      <td>0.020</td>\n",
       "      <td>0.005</td>\n",
       "      <td>0.005</td>\n",
       "      <td>0.075</td>\n",
       "      <td>0.000</td>\n",
       "      <td>0.085</td>\n",
       "      <td>DE</td>\n",
       "    </tr>\n",
       "    <tr>\n",
       "      <th>199</th>\n",
       "      <td>0.095</td>\n",
       "      <td>0.115</td>\n",
       "      <td>0.130</td>\n",
       "      <td>0.030</td>\n",
       "      <td>0.000</td>\n",
       "      <td>0.105</td>\n",
       "      <td>0.040</td>\n",
       "      <td>0.010</td>\n",
       "      <td>0.065</td>\n",
       "      <td>0.050</td>\n",
       "      <td>0.025</td>\n",
       "      <td>0.005</td>\n",
       "      <td>0.005</td>\n",
       "      <td>0.060</td>\n",
       "      <td>0.000</td>\n",
       "      <td>0.060</td>\n",
       "      <td>DE</td>\n",
       "    </tr>\n",
       "  </tbody>\n",
       "</table>\n",
       "<p>200 rows × 17 columns</p>\n",
       "</div>"
      ],
      "text/plain": [
       "         a      e      n      u      p      i      s      w      o      l  \\\n",
       "0    0.100  0.150  0.095  0.030  0.025  0.085  0.055  0.010  0.010  0.045   \n",
       "1    0.050  0.185  0.075  0.040  0.015  0.075  0.045  0.015  0.020  0.015   \n",
       "2    0.080  0.135  0.130  0.030  0.015  0.090  0.085  0.010  0.020  0.035   \n",
       "3    0.050  0.180  0.090  0.045  0.000  0.065  0.080  0.030  0.015  0.030   \n",
       "4    0.060  0.170  0.100  0.020  0.015  0.110  0.075  0.015  0.020  0.050   \n",
       "..     ...    ...    ...    ...    ...    ...    ...    ...    ...    ...   \n",
       "195  0.060  0.160  0.085  0.055  0.015  0.070  0.055  0.015  0.025  0.040   \n",
       "196  0.055  0.150  0.085  0.035  0.010  0.075  0.065  0.015  0.020  0.030   \n",
       "197  0.090  0.125  0.095  0.045  0.020  0.085  0.085  0.015  0.035  0.045   \n",
       "198  0.040  0.120  0.100  0.035  0.005  0.115  0.085  0.015  0.050  0.035   \n",
       "199  0.095  0.115  0.130  0.030  0.000  0.105  0.040  0.010  0.065  0.050   \n",
       "\n",
       "         h      y      b      r      j      t Classe  \n",
       "0    0.030  0.000  0.010  0.120  0.015  0.070     DE  \n",
       "1    0.035  0.000  0.015  0.125  0.005  0.065     DE  \n",
       "2    0.030  0.000  0.005  0.070  0.000  0.075     DE  \n",
       "3    0.060  0.000  0.015  0.075  0.000  0.055     DE  \n",
       "4    0.050  0.000  0.015  0.085  0.000  0.060     DE  \n",
       "..     ...    ...    ...    ...    ...    ...    ...  \n",
       "195  0.050  0.000  0.015  0.105  0.005  0.045     DE  \n",
       "196  0.065  0.000  0.015  0.075  0.000  0.065     DE  \n",
       "197  0.055  0.000  0.015  0.070  0.005  0.045     DE  \n",
       "198  0.020  0.005  0.005  0.075  0.000  0.085     DE  \n",
       "199  0.025  0.005  0.005  0.060  0.000  0.060     DE  \n",
       "\n",
       "[200 rows x 17 columns]"
      ]
     },
     "execution_count": 30,
     "metadata": {},
     "output_type": "execute_result"
    }
   ],
   "source": [
    "data_de=instances(url[2],d,l_min,classe[2])\n",
    "data_de"
   ]
  },
  {
   "cell_type": "markdown",
   "metadata": {},
   "source": [
    "- Dataframme contenant les fréquences de chaque caractère des 202 fragments en Italien :"
   ]
  },
  {
   "cell_type": "code",
   "execution_count": 31,
   "metadata": {},
   "outputs": [
    {
     "data": {
      "text/html": [
       "<div>\n",
       "<style scoped>\n",
       "    .dataframe tbody tr th:only-of-type {\n",
       "        vertical-align: middle;\n",
       "    }\n",
       "\n",
       "    .dataframe tbody tr th {\n",
       "        vertical-align: top;\n",
       "    }\n",
       "\n",
       "    .dataframe thead th {\n",
       "        text-align: right;\n",
       "    }\n",
       "</style>\n",
       "<table border=\"1\" class=\"dataframe\">\n",
       "  <thead>\n",
       "    <tr style=\"text-align: right;\">\n",
       "      <th></th>\n",
       "      <th>a</th>\n",
       "      <th>e</th>\n",
       "      <th>n</th>\n",
       "      <th>u</th>\n",
       "      <th>p</th>\n",
       "      <th>i</th>\n",
       "      <th>s</th>\n",
       "      <th>w</th>\n",
       "      <th>o</th>\n",
       "      <th>l</th>\n",
       "      <th>h</th>\n",
       "      <th>y</th>\n",
       "      <th>b</th>\n",
       "      <th>r</th>\n",
       "      <th>j</th>\n",
       "      <th>t</th>\n",
       "      <th>Classe</th>\n",
       "    </tr>\n",
       "  </thead>\n",
       "  <tbody>\n",
       "    <tr>\n",
       "      <th>0</th>\n",
       "      <td>0.100</td>\n",
       "      <td>0.110</td>\n",
       "      <td>0.075</td>\n",
       "      <td>0.025</td>\n",
       "      <td>0.035</td>\n",
       "      <td>0.125</td>\n",
       "      <td>0.050</td>\n",
       "      <td>0.0</td>\n",
       "      <td>0.075</td>\n",
       "      <td>0.055</td>\n",
       "      <td>0.015</td>\n",
       "      <td>0.000</td>\n",
       "      <td>0.000</td>\n",
       "      <td>0.065</td>\n",
       "      <td>0.010</td>\n",
       "      <td>0.115</td>\n",
       "      <td>IT</td>\n",
       "    </tr>\n",
       "    <tr>\n",
       "      <th>1</th>\n",
       "      <td>0.135</td>\n",
       "      <td>0.090</td>\n",
       "      <td>0.075</td>\n",
       "      <td>0.025</td>\n",
       "      <td>0.030</td>\n",
       "      <td>0.120</td>\n",
       "      <td>0.030</td>\n",
       "      <td>0.0</td>\n",
       "      <td>0.085</td>\n",
       "      <td>0.075</td>\n",
       "      <td>0.015</td>\n",
       "      <td>0.000</td>\n",
       "      <td>0.000</td>\n",
       "      <td>0.060</td>\n",
       "      <td>0.000</td>\n",
       "      <td>0.075</td>\n",
       "      <td>IT</td>\n",
       "    </tr>\n",
       "    <tr>\n",
       "      <th>2</th>\n",
       "      <td>0.110</td>\n",
       "      <td>0.100</td>\n",
       "      <td>0.100</td>\n",
       "      <td>0.030</td>\n",
       "      <td>0.020</td>\n",
       "      <td>0.120</td>\n",
       "      <td>0.045</td>\n",
       "      <td>0.0</td>\n",
       "      <td>0.070</td>\n",
       "      <td>0.065</td>\n",
       "      <td>0.020</td>\n",
       "      <td>0.000</td>\n",
       "      <td>0.015</td>\n",
       "      <td>0.055</td>\n",
       "      <td>0.005</td>\n",
       "      <td>0.080</td>\n",
       "      <td>IT</td>\n",
       "    </tr>\n",
       "    <tr>\n",
       "      <th>3</th>\n",
       "      <td>0.130</td>\n",
       "      <td>0.135</td>\n",
       "      <td>0.090</td>\n",
       "      <td>0.015</td>\n",
       "      <td>0.025</td>\n",
       "      <td>0.105</td>\n",
       "      <td>0.055</td>\n",
       "      <td>0.0</td>\n",
       "      <td>0.070</td>\n",
       "      <td>0.070</td>\n",
       "      <td>0.010</td>\n",
       "      <td>0.000</td>\n",
       "      <td>0.015</td>\n",
       "      <td>0.065</td>\n",
       "      <td>0.000</td>\n",
       "      <td>0.080</td>\n",
       "      <td>IT</td>\n",
       "    </tr>\n",
       "    <tr>\n",
       "      <th>4</th>\n",
       "      <td>0.150</td>\n",
       "      <td>0.115</td>\n",
       "      <td>0.080</td>\n",
       "      <td>0.015</td>\n",
       "      <td>0.025</td>\n",
       "      <td>0.120</td>\n",
       "      <td>0.070</td>\n",
       "      <td>0.0</td>\n",
       "      <td>0.075</td>\n",
       "      <td>0.070</td>\n",
       "      <td>0.005</td>\n",
       "      <td>0.000</td>\n",
       "      <td>0.000</td>\n",
       "      <td>0.055</td>\n",
       "      <td>0.000</td>\n",
       "      <td>0.065</td>\n",
       "      <td>IT</td>\n",
       "    </tr>\n",
       "    <tr>\n",
       "      <th>...</th>\n",
       "      <td>...</td>\n",
       "      <td>...</td>\n",
       "      <td>...</td>\n",
       "      <td>...</td>\n",
       "      <td>...</td>\n",
       "      <td>...</td>\n",
       "      <td>...</td>\n",
       "      <td>...</td>\n",
       "      <td>...</td>\n",
       "      <td>...</td>\n",
       "      <td>...</td>\n",
       "      <td>...</td>\n",
       "      <td>...</td>\n",
       "      <td>...</td>\n",
       "      <td>...</td>\n",
       "      <td>...</td>\n",
       "      <td>...</td>\n",
       "    </tr>\n",
       "    <tr>\n",
       "      <th>195</th>\n",
       "      <td>0.120</td>\n",
       "      <td>0.105</td>\n",
       "      <td>0.085</td>\n",
       "      <td>0.010</td>\n",
       "      <td>0.020</td>\n",
       "      <td>0.090</td>\n",
       "      <td>0.040</td>\n",
       "      <td>0.0</td>\n",
       "      <td>0.110</td>\n",
       "      <td>0.050</td>\n",
       "      <td>0.005</td>\n",
       "      <td>0.015</td>\n",
       "      <td>0.015</td>\n",
       "      <td>0.075</td>\n",
       "      <td>0.000</td>\n",
       "      <td>0.060</td>\n",
       "      <td>IT</td>\n",
       "    </tr>\n",
       "    <tr>\n",
       "      <th>196</th>\n",
       "      <td>0.130</td>\n",
       "      <td>0.115</td>\n",
       "      <td>0.075</td>\n",
       "      <td>0.020</td>\n",
       "      <td>0.020</td>\n",
       "      <td>0.110</td>\n",
       "      <td>0.055</td>\n",
       "      <td>0.0</td>\n",
       "      <td>0.075</td>\n",
       "      <td>0.065</td>\n",
       "      <td>0.025</td>\n",
       "      <td>0.005</td>\n",
       "      <td>0.000</td>\n",
       "      <td>0.065</td>\n",
       "      <td>0.000</td>\n",
       "      <td>0.055</td>\n",
       "      <td>IT</td>\n",
       "    </tr>\n",
       "    <tr>\n",
       "      <th>197</th>\n",
       "      <td>0.090</td>\n",
       "      <td>0.130</td>\n",
       "      <td>0.055</td>\n",
       "      <td>0.050</td>\n",
       "      <td>0.020</td>\n",
       "      <td>0.105</td>\n",
       "      <td>0.045</td>\n",
       "      <td>0.0</td>\n",
       "      <td>0.090</td>\n",
       "      <td>0.065</td>\n",
       "      <td>0.015</td>\n",
       "      <td>0.000</td>\n",
       "      <td>0.000</td>\n",
       "      <td>0.080</td>\n",
       "      <td>0.000</td>\n",
       "      <td>0.105</td>\n",
       "      <td>IT</td>\n",
       "    </tr>\n",
       "    <tr>\n",
       "      <th>198</th>\n",
       "      <td>0.115</td>\n",
       "      <td>0.125</td>\n",
       "      <td>0.090</td>\n",
       "      <td>0.045</td>\n",
       "      <td>0.010</td>\n",
       "      <td>0.090</td>\n",
       "      <td>0.075</td>\n",
       "      <td>0.0</td>\n",
       "      <td>0.075</td>\n",
       "      <td>0.070</td>\n",
       "      <td>0.015</td>\n",
       "      <td>0.000</td>\n",
       "      <td>0.015</td>\n",
       "      <td>0.070</td>\n",
       "      <td>0.000</td>\n",
       "      <td>0.030</td>\n",
       "      <td>IT</td>\n",
       "    </tr>\n",
       "    <tr>\n",
       "      <th>199</th>\n",
       "      <td>0.105</td>\n",
       "      <td>0.135</td>\n",
       "      <td>0.055</td>\n",
       "      <td>0.015</td>\n",
       "      <td>0.010</td>\n",
       "      <td>0.115</td>\n",
       "      <td>0.050</td>\n",
       "      <td>0.0</td>\n",
       "      <td>0.110</td>\n",
       "      <td>0.030</td>\n",
       "      <td>0.030</td>\n",
       "      <td>0.000</td>\n",
       "      <td>0.000</td>\n",
       "      <td>0.080</td>\n",
       "      <td>0.000</td>\n",
       "      <td>0.050</td>\n",
       "      <td>IT</td>\n",
       "    </tr>\n",
       "  </tbody>\n",
       "</table>\n",
       "<p>200 rows × 17 columns</p>\n",
       "</div>"
      ],
      "text/plain": [
       "         a      e      n      u      p      i      s    w      o      l  \\\n",
       "0    0.100  0.110  0.075  0.025  0.035  0.125  0.050  0.0  0.075  0.055   \n",
       "1    0.135  0.090  0.075  0.025  0.030  0.120  0.030  0.0  0.085  0.075   \n",
       "2    0.110  0.100  0.100  0.030  0.020  0.120  0.045  0.0  0.070  0.065   \n",
       "3    0.130  0.135  0.090  0.015  0.025  0.105  0.055  0.0  0.070  0.070   \n",
       "4    0.150  0.115  0.080  0.015  0.025  0.120  0.070  0.0  0.075  0.070   \n",
       "..     ...    ...    ...    ...    ...    ...    ...  ...    ...    ...   \n",
       "195  0.120  0.105  0.085  0.010  0.020  0.090  0.040  0.0  0.110  0.050   \n",
       "196  0.130  0.115  0.075  0.020  0.020  0.110  0.055  0.0  0.075  0.065   \n",
       "197  0.090  0.130  0.055  0.050  0.020  0.105  0.045  0.0  0.090  0.065   \n",
       "198  0.115  0.125  0.090  0.045  0.010  0.090  0.075  0.0  0.075  0.070   \n",
       "199  0.105  0.135  0.055  0.015  0.010  0.115  0.050  0.0  0.110  0.030   \n",
       "\n",
       "         h      y      b      r      j      t Classe  \n",
       "0    0.015  0.000  0.000  0.065  0.010  0.115     IT  \n",
       "1    0.015  0.000  0.000  0.060  0.000  0.075     IT  \n",
       "2    0.020  0.000  0.015  0.055  0.005  0.080     IT  \n",
       "3    0.010  0.000  0.015  0.065  0.000  0.080     IT  \n",
       "4    0.005  0.000  0.000  0.055  0.000  0.065     IT  \n",
       "..     ...    ...    ...    ...    ...    ...    ...  \n",
       "195  0.005  0.015  0.015  0.075  0.000  0.060     IT  \n",
       "196  0.025  0.005  0.000  0.065  0.000  0.055     IT  \n",
       "197  0.015  0.000  0.000  0.080  0.000  0.105     IT  \n",
       "198  0.015  0.000  0.015  0.070  0.000  0.030     IT  \n",
       "199  0.030  0.000  0.000  0.080  0.000  0.050     IT  \n",
       "\n",
       "[200 rows x 17 columns]"
      ]
     },
     "execution_count": 31,
     "metadata": {},
     "output_type": "execute_result"
    }
   ],
   "source": [
    "data_it=instances(url[3],d,l_min,classe[3])\n",
    "data_it"
   ]
  },
  {
   "cell_type": "markdown",
   "metadata": {},
   "source": [
    "- Dataframme contenant les fréquences de chaque caractère des 202 fragments en Espagnol :"
   ]
  },
  {
   "cell_type": "code",
   "execution_count": 32,
   "metadata": {},
   "outputs": [
    {
     "data": {
      "text/html": [
       "<div>\n",
       "<style scoped>\n",
       "    .dataframe tbody tr th:only-of-type {\n",
       "        vertical-align: middle;\n",
       "    }\n",
       "\n",
       "    .dataframe tbody tr th {\n",
       "        vertical-align: top;\n",
       "    }\n",
       "\n",
       "    .dataframe thead th {\n",
       "        text-align: right;\n",
       "    }\n",
       "</style>\n",
       "<table border=\"1\" class=\"dataframe\">\n",
       "  <thead>\n",
       "    <tr style=\"text-align: right;\">\n",
       "      <th></th>\n",
       "      <th>a</th>\n",
       "      <th>e</th>\n",
       "      <th>n</th>\n",
       "      <th>u</th>\n",
       "      <th>p</th>\n",
       "      <th>i</th>\n",
       "      <th>s</th>\n",
       "      <th>w</th>\n",
       "      <th>o</th>\n",
       "      <th>l</th>\n",
       "      <th>h</th>\n",
       "      <th>y</th>\n",
       "      <th>b</th>\n",
       "      <th>r</th>\n",
       "      <th>j</th>\n",
       "      <th>t</th>\n",
       "      <th>Classe</th>\n",
       "    </tr>\n",
       "  </thead>\n",
       "  <tbody>\n",
       "    <tr>\n",
       "      <th>0</th>\n",
       "      <td>0.115</td>\n",
       "      <td>0.135</td>\n",
       "      <td>0.080</td>\n",
       "      <td>0.045</td>\n",
       "      <td>0.010</td>\n",
       "      <td>0.080</td>\n",
       "      <td>0.065</td>\n",
       "      <td>0.0</td>\n",
       "      <td>0.060</td>\n",
       "      <td>0.060</td>\n",
       "      <td>0.015</td>\n",
       "      <td>0.005</td>\n",
       "      <td>0.015</td>\n",
       "      <td>0.065</td>\n",
       "      <td>0.010</td>\n",
       "      <td>0.070</td>\n",
       "      <td>ES</td>\n",
       "    </tr>\n",
       "    <tr>\n",
       "      <th>1</th>\n",
       "      <td>0.135</td>\n",
       "      <td>0.125</td>\n",
       "      <td>0.070</td>\n",
       "      <td>0.020</td>\n",
       "      <td>0.035</td>\n",
       "      <td>0.075</td>\n",
       "      <td>0.080</td>\n",
       "      <td>0.0</td>\n",
       "      <td>0.080</td>\n",
       "      <td>0.035</td>\n",
       "      <td>0.005</td>\n",
       "      <td>0.010</td>\n",
       "      <td>0.005</td>\n",
       "      <td>0.080</td>\n",
       "      <td>0.000</td>\n",
       "      <td>0.055</td>\n",
       "      <td>ES</td>\n",
       "    </tr>\n",
       "    <tr>\n",
       "      <th>2</th>\n",
       "      <td>0.140</td>\n",
       "      <td>0.110</td>\n",
       "      <td>0.090</td>\n",
       "      <td>0.045</td>\n",
       "      <td>0.030</td>\n",
       "      <td>0.070</td>\n",
       "      <td>0.060</td>\n",
       "      <td>0.0</td>\n",
       "      <td>0.105</td>\n",
       "      <td>0.060</td>\n",
       "      <td>0.015</td>\n",
       "      <td>0.010</td>\n",
       "      <td>0.015</td>\n",
       "      <td>0.055</td>\n",
       "      <td>0.000</td>\n",
       "      <td>0.035</td>\n",
       "      <td>ES</td>\n",
       "    </tr>\n",
       "    <tr>\n",
       "      <th>3</th>\n",
       "      <td>0.155</td>\n",
       "      <td>0.100</td>\n",
       "      <td>0.060</td>\n",
       "      <td>0.025</td>\n",
       "      <td>0.035</td>\n",
       "      <td>0.085</td>\n",
       "      <td>0.080</td>\n",
       "      <td>0.0</td>\n",
       "      <td>0.065</td>\n",
       "      <td>0.040</td>\n",
       "      <td>0.015</td>\n",
       "      <td>0.010</td>\n",
       "      <td>0.015</td>\n",
       "      <td>0.065</td>\n",
       "      <td>0.005</td>\n",
       "      <td>0.035</td>\n",
       "      <td>ES</td>\n",
       "    </tr>\n",
       "    <tr>\n",
       "      <th>4</th>\n",
       "      <td>0.095</td>\n",
       "      <td>0.125</td>\n",
       "      <td>0.080</td>\n",
       "      <td>0.035</td>\n",
       "      <td>0.010</td>\n",
       "      <td>0.065</td>\n",
       "      <td>0.105</td>\n",
       "      <td>0.0</td>\n",
       "      <td>0.105</td>\n",
       "      <td>0.050</td>\n",
       "      <td>0.020</td>\n",
       "      <td>0.015</td>\n",
       "      <td>0.015</td>\n",
       "      <td>0.060</td>\n",
       "      <td>0.000</td>\n",
       "      <td>0.055</td>\n",
       "      <td>ES</td>\n",
       "    </tr>\n",
       "    <tr>\n",
       "      <th>...</th>\n",
       "      <td>...</td>\n",
       "      <td>...</td>\n",
       "      <td>...</td>\n",
       "      <td>...</td>\n",
       "      <td>...</td>\n",
       "      <td>...</td>\n",
       "      <td>...</td>\n",
       "      <td>...</td>\n",
       "      <td>...</td>\n",
       "      <td>...</td>\n",
       "      <td>...</td>\n",
       "      <td>...</td>\n",
       "      <td>...</td>\n",
       "      <td>...</td>\n",
       "      <td>...</td>\n",
       "      <td>...</td>\n",
       "      <td>...</td>\n",
       "    </tr>\n",
       "    <tr>\n",
       "      <th>195</th>\n",
       "      <td>0.095</td>\n",
       "      <td>0.125</td>\n",
       "      <td>0.095</td>\n",
       "      <td>0.035</td>\n",
       "      <td>0.015</td>\n",
       "      <td>0.100</td>\n",
       "      <td>0.075</td>\n",
       "      <td>0.0</td>\n",
       "      <td>0.050</td>\n",
       "      <td>0.050</td>\n",
       "      <td>0.025</td>\n",
       "      <td>0.010</td>\n",
       "      <td>0.010</td>\n",
       "      <td>0.080</td>\n",
       "      <td>0.005</td>\n",
       "      <td>0.060</td>\n",
       "      <td>ES</td>\n",
       "    </tr>\n",
       "    <tr>\n",
       "      <th>196</th>\n",
       "      <td>0.080</td>\n",
       "      <td>0.130</td>\n",
       "      <td>0.090</td>\n",
       "      <td>0.055</td>\n",
       "      <td>0.010</td>\n",
       "      <td>0.075</td>\n",
       "      <td>0.095</td>\n",
       "      <td>0.0</td>\n",
       "      <td>0.100</td>\n",
       "      <td>0.045</td>\n",
       "      <td>0.005</td>\n",
       "      <td>0.005</td>\n",
       "      <td>0.015</td>\n",
       "      <td>0.045</td>\n",
       "      <td>0.015</td>\n",
       "      <td>0.055</td>\n",
       "      <td>ES</td>\n",
       "    </tr>\n",
       "    <tr>\n",
       "      <th>197</th>\n",
       "      <td>0.090</td>\n",
       "      <td>0.135</td>\n",
       "      <td>0.115</td>\n",
       "      <td>0.030</td>\n",
       "      <td>0.010</td>\n",
       "      <td>0.090</td>\n",
       "      <td>0.095</td>\n",
       "      <td>0.0</td>\n",
       "      <td>0.075</td>\n",
       "      <td>0.065</td>\n",
       "      <td>0.010</td>\n",
       "      <td>0.015</td>\n",
       "      <td>0.015</td>\n",
       "      <td>0.020</td>\n",
       "      <td>0.000</td>\n",
       "      <td>0.085</td>\n",
       "      <td>ES</td>\n",
       "    </tr>\n",
       "    <tr>\n",
       "      <th>198</th>\n",
       "      <td>0.100</td>\n",
       "      <td>0.165</td>\n",
       "      <td>0.125</td>\n",
       "      <td>0.020</td>\n",
       "      <td>0.030</td>\n",
       "      <td>0.060</td>\n",
       "      <td>0.065</td>\n",
       "      <td>0.0</td>\n",
       "      <td>0.065</td>\n",
       "      <td>0.045</td>\n",
       "      <td>0.010</td>\n",
       "      <td>0.015</td>\n",
       "      <td>0.020</td>\n",
       "      <td>0.065</td>\n",
       "      <td>0.010</td>\n",
       "      <td>0.035</td>\n",
       "      <td>ES</td>\n",
       "    </tr>\n",
       "    <tr>\n",
       "      <th>199</th>\n",
       "      <td>0.080</td>\n",
       "      <td>0.140</td>\n",
       "      <td>0.090</td>\n",
       "      <td>0.045</td>\n",
       "      <td>0.015</td>\n",
       "      <td>0.075</td>\n",
       "      <td>0.085</td>\n",
       "      <td>0.0</td>\n",
       "      <td>0.090</td>\n",
       "      <td>0.035</td>\n",
       "      <td>0.015</td>\n",
       "      <td>0.000</td>\n",
       "      <td>0.015</td>\n",
       "      <td>0.065</td>\n",
       "      <td>0.000</td>\n",
       "      <td>0.070</td>\n",
       "      <td>ES</td>\n",
       "    </tr>\n",
       "  </tbody>\n",
       "</table>\n",
       "<p>200 rows × 17 columns</p>\n",
       "</div>"
      ],
      "text/plain": [
       "         a      e      n      u      p      i      s    w      o      l  \\\n",
       "0    0.115  0.135  0.080  0.045  0.010  0.080  0.065  0.0  0.060  0.060   \n",
       "1    0.135  0.125  0.070  0.020  0.035  0.075  0.080  0.0  0.080  0.035   \n",
       "2    0.140  0.110  0.090  0.045  0.030  0.070  0.060  0.0  0.105  0.060   \n",
       "3    0.155  0.100  0.060  0.025  0.035  0.085  0.080  0.0  0.065  0.040   \n",
       "4    0.095  0.125  0.080  0.035  0.010  0.065  0.105  0.0  0.105  0.050   \n",
       "..     ...    ...    ...    ...    ...    ...    ...  ...    ...    ...   \n",
       "195  0.095  0.125  0.095  0.035  0.015  0.100  0.075  0.0  0.050  0.050   \n",
       "196  0.080  0.130  0.090  0.055  0.010  0.075  0.095  0.0  0.100  0.045   \n",
       "197  0.090  0.135  0.115  0.030  0.010  0.090  0.095  0.0  0.075  0.065   \n",
       "198  0.100  0.165  0.125  0.020  0.030  0.060  0.065  0.0  0.065  0.045   \n",
       "199  0.080  0.140  0.090  0.045  0.015  0.075  0.085  0.0  0.090  0.035   \n",
       "\n",
       "         h      y      b      r      j      t Classe  \n",
       "0    0.015  0.005  0.015  0.065  0.010  0.070     ES  \n",
       "1    0.005  0.010  0.005  0.080  0.000  0.055     ES  \n",
       "2    0.015  0.010  0.015  0.055  0.000  0.035     ES  \n",
       "3    0.015  0.010  0.015  0.065  0.005  0.035     ES  \n",
       "4    0.020  0.015  0.015  0.060  0.000  0.055     ES  \n",
       "..     ...    ...    ...    ...    ...    ...    ...  \n",
       "195  0.025  0.010  0.010  0.080  0.005  0.060     ES  \n",
       "196  0.005  0.005  0.015  0.045  0.015  0.055     ES  \n",
       "197  0.010  0.015  0.015  0.020  0.000  0.085     ES  \n",
       "198  0.010  0.015  0.020  0.065  0.010  0.035     ES  \n",
       "199  0.015  0.000  0.015  0.065  0.000  0.070     ES  \n",
       "\n",
       "[200 rows x 17 columns]"
      ]
     },
     "execution_count": 32,
     "metadata": {},
     "output_type": "execute_result"
    }
   ],
   "source": [
    "data_es=instances(url[4],d,l_min,classe[4])\n",
    "data_es"
   ]
  },
  {
   "cell_type": "markdown",
   "metadata": {},
   "source": [
    "- Création d'un dataframme comprenant les 5 dataframmes vu précedemment avec leur classe (concaténation)."
   ]
  },
  {
   "cell_type": "markdown",
   "metadata": {},
   "source": [
    "La fonction data_instances(l) ci-dessous va nous permetre de concatener les dataframe des differentes langues construit a partir de la fonction \"Instances\" precedent. Elle permet donc de constituer notre ensemble d'entraînement (instances d'apprentissage) pour l'algo de knn."
   ]
  },
  {
   "cell_type": "code",
   "execution_count": 33,
   "metadata": {},
   "outputs": [],
   "source": [
    "def data_instances(l):\n",
    "    data=pd.concat(l, axis=0)\n",
    "    data=data.sort_values(by=['Classe'],ascending=False)\n",
    "    return data"
   ]
  },
  {
   "cell_type": "code",
   "execution_count": 34,
   "metadata": {},
   "outputs": [
    {
     "data": {
      "text/html": [
       "<div>\n",
       "<style scoped>\n",
       "    .dataframe tbody tr th:only-of-type {\n",
       "        vertical-align: middle;\n",
       "    }\n",
       "\n",
       "    .dataframe tbody tr th {\n",
       "        vertical-align: top;\n",
       "    }\n",
       "\n",
       "    .dataframe thead th {\n",
       "        text-align: right;\n",
       "    }\n",
       "</style>\n",
       "<table border=\"1\" class=\"dataframe\">\n",
       "  <thead>\n",
       "    <tr style=\"text-align: right;\">\n",
       "      <th></th>\n",
       "      <th>a</th>\n",
       "      <th>e</th>\n",
       "      <th>n</th>\n",
       "      <th>u</th>\n",
       "      <th>p</th>\n",
       "      <th>i</th>\n",
       "      <th>s</th>\n",
       "      <th>w</th>\n",
       "      <th>o</th>\n",
       "      <th>l</th>\n",
       "      <th>h</th>\n",
       "      <th>y</th>\n",
       "      <th>b</th>\n",
       "      <th>r</th>\n",
       "      <th>j</th>\n",
       "      <th>t</th>\n",
       "      <th>Classe</th>\n",
       "    </tr>\n",
       "  </thead>\n",
       "  <tbody>\n",
       "    <tr>\n",
       "      <th>1</th>\n",
       "      <td>0.135</td>\n",
       "      <td>0.090</td>\n",
       "      <td>0.075</td>\n",
       "      <td>0.025</td>\n",
       "      <td>0.030</td>\n",
       "      <td>0.120</td>\n",
       "      <td>0.030</td>\n",
       "      <td>0.000</td>\n",
       "      <td>0.085</td>\n",
       "      <td>0.075</td>\n",
       "      <td>0.015</td>\n",
       "      <td>0.000</td>\n",
       "      <td>0.000</td>\n",
       "      <td>0.060</td>\n",
       "      <td>0.000</td>\n",
       "      <td>0.075</td>\n",
       "      <td>IT</td>\n",
       "    </tr>\n",
       "    <tr>\n",
       "      <th>137</th>\n",
       "      <td>0.110</td>\n",
       "      <td>0.100</td>\n",
       "      <td>0.060</td>\n",
       "      <td>0.025</td>\n",
       "      <td>0.055</td>\n",
       "      <td>0.130</td>\n",
       "      <td>0.025</td>\n",
       "      <td>0.000</td>\n",
       "      <td>0.080</td>\n",
       "      <td>0.055</td>\n",
       "      <td>0.010</td>\n",
       "      <td>0.000</td>\n",
       "      <td>0.010</td>\n",
       "      <td>0.070</td>\n",
       "      <td>0.000</td>\n",
       "      <td>0.075</td>\n",
       "      <td>IT</td>\n",
       "    </tr>\n",
       "    <tr>\n",
       "      <th>127</th>\n",
       "      <td>0.080</td>\n",
       "      <td>0.100</td>\n",
       "      <td>0.045</td>\n",
       "      <td>0.015</td>\n",
       "      <td>0.025</td>\n",
       "      <td>0.165</td>\n",
       "      <td>0.070</td>\n",
       "      <td>0.000</td>\n",
       "      <td>0.080</td>\n",
       "      <td>0.095</td>\n",
       "      <td>0.005</td>\n",
       "      <td>0.000</td>\n",
       "      <td>0.005</td>\n",
       "      <td>0.055</td>\n",
       "      <td>0.000</td>\n",
       "      <td>0.085</td>\n",
       "      <td>IT</td>\n",
       "    </tr>\n",
       "    <tr>\n",
       "      <th>128</th>\n",
       "      <td>0.095</td>\n",
       "      <td>0.105</td>\n",
       "      <td>0.065</td>\n",
       "      <td>0.025</td>\n",
       "      <td>0.035</td>\n",
       "      <td>0.110</td>\n",
       "      <td>0.070</td>\n",
       "      <td>0.000</td>\n",
       "      <td>0.085</td>\n",
       "      <td>0.090</td>\n",
       "      <td>0.010</td>\n",
       "      <td>0.005</td>\n",
       "      <td>0.015</td>\n",
       "      <td>0.040</td>\n",
       "      <td>0.005</td>\n",
       "      <td>0.090</td>\n",
       "      <td>IT</td>\n",
       "    </tr>\n",
       "    <tr>\n",
       "      <th>129</th>\n",
       "      <td>0.100</td>\n",
       "      <td>0.095</td>\n",
       "      <td>0.040</td>\n",
       "      <td>0.035</td>\n",
       "      <td>0.040</td>\n",
       "      <td>0.125</td>\n",
       "      <td>0.030</td>\n",
       "      <td>0.010</td>\n",
       "      <td>0.090</td>\n",
       "      <td>0.075</td>\n",
       "      <td>0.010</td>\n",
       "      <td>0.005</td>\n",
       "      <td>0.005</td>\n",
       "      <td>0.070</td>\n",
       "      <td>0.000</td>\n",
       "      <td>0.065</td>\n",
       "      <td>IT</td>\n",
       "    </tr>\n",
       "    <tr>\n",
       "      <th>...</th>\n",
       "      <td>...</td>\n",
       "      <td>...</td>\n",
       "      <td>...</td>\n",
       "      <td>...</td>\n",
       "      <td>...</td>\n",
       "      <td>...</td>\n",
       "      <td>...</td>\n",
       "      <td>...</td>\n",
       "      <td>...</td>\n",
       "      <td>...</td>\n",
       "      <td>...</td>\n",
       "      <td>...</td>\n",
       "      <td>...</td>\n",
       "      <td>...</td>\n",
       "      <td>...</td>\n",
       "      <td>...</td>\n",
       "      <td>...</td>\n",
       "    </tr>\n",
       "    <tr>\n",
       "      <th>68</th>\n",
       "      <td>0.085</td>\n",
       "      <td>0.135</td>\n",
       "      <td>0.090</td>\n",
       "      <td>0.040</td>\n",
       "      <td>0.005</td>\n",
       "      <td>0.105</td>\n",
       "      <td>0.050</td>\n",
       "      <td>0.025</td>\n",
       "      <td>0.020</td>\n",
       "      <td>0.015</td>\n",
       "      <td>0.025</td>\n",
       "      <td>0.005</td>\n",
       "      <td>0.040</td>\n",
       "      <td>0.080</td>\n",
       "      <td>0.000</td>\n",
       "      <td>0.060</td>\n",
       "      <td>DE</td>\n",
       "    </tr>\n",
       "    <tr>\n",
       "      <th>69</th>\n",
       "      <td>0.050</td>\n",
       "      <td>0.160</td>\n",
       "      <td>0.120</td>\n",
       "      <td>0.060</td>\n",
       "      <td>0.015</td>\n",
       "      <td>0.095</td>\n",
       "      <td>0.040</td>\n",
       "      <td>0.010</td>\n",
       "      <td>0.015</td>\n",
       "      <td>0.020</td>\n",
       "      <td>0.040</td>\n",
       "      <td>0.000</td>\n",
       "      <td>0.010</td>\n",
       "      <td>0.060</td>\n",
       "      <td>0.005</td>\n",
       "      <td>0.070</td>\n",
       "      <td>DE</td>\n",
       "    </tr>\n",
       "    <tr>\n",
       "      <th>70</th>\n",
       "      <td>0.050</td>\n",
       "      <td>0.180</td>\n",
       "      <td>0.105</td>\n",
       "      <td>0.025</td>\n",
       "      <td>0.015</td>\n",
       "      <td>0.095</td>\n",
       "      <td>0.050</td>\n",
       "      <td>0.030</td>\n",
       "      <td>0.030</td>\n",
       "      <td>0.045</td>\n",
       "      <td>0.015</td>\n",
       "      <td>0.000</td>\n",
       "      <td>0.010</td>\n",
       "      <td>0.070</td>\n",
       "      <td>0.000</td>\n",
       "      <td>0.090</td>\n",
       "      <td>DE</td>\n",
       "    </tr>\n",
       "    <tr>\n",
       "      <th>71</th>\n",
       "      <td>0.055</td>\n",
       "      <td>0.170</td>\n",
       "      <td>0.090</td>\n",
       "      <td>0.030</td>\n",
       "      <td>0.015</td>\n",
       "      <td>0.100</td>\n",
       "      <td>0.060</td>\n",
       "      <td>0.005</td>\n",
       "      <td>0.015</td>\n",
       "      <td>0.040</td>\n",
       "      <td>0.050</td>\n",
       "      <td>0.005</td>\n",
       "      <td>0.020</td>\n",
       "      <td>0.060</td>\n",
       "      <td>0.005</td>\n",
       "      <td>0.095</td>\n",
       "      <td>DE</td>\n",
       "    </tr>\n",
       "    <tr>\n",
       "      <th>100</th>\n",
       "      <td>0.075</td>\n",
       "      <td>0.185</td>\n",
       "      <td>0.095</td>\n",
       "      <td>0.030</td>\n",
       "      <td>0.010</td>\n",
       "      <td>0.070</td>\n",
       "      <td>0.060</td>\n",
       "      <td>0.010</td>\n",
       "      <td>0.040</td>\n",
       "      <td>0.020</td>\n",
       "      <td>0.035</td>\n",
       "      <td>0.005</td>\n",
       "      <td>0.020</td>\n",
       "      <td>0.095</td>\n",
       "      <td>0.000</td>\n",
       "      <td>0.080</td>\n",
       "      <td>DE</td>\n",
       "    </tr>\n",
       "  </tbody>\n",
       "</table>\n",
       "<p>1000 rows × 17 columns</p>\n",
       "</div>"
      ],
      "text/plain": [
       "         a      e      n      u      p      i      s      w      o      l  \\\n",
       "1    0.135  0.090  0.075  0.025  0.030  0.120  0.030  0.000  0.085  0.075   \n",
       "137  0.110  0.100  0.060  0.025  0.055  0.130  0.025  0.000  0.080  0.055   \n",
       "127  0.080  0.100  0.045  0.015  0.025  0.165  0.070  0.000  0.080  0.095   \n",
       "128  0.095  0.105  0.065  0.025  0.035  0.110  0.070  0.000  0.085  0.090   \n",
       "129  0.100  0.095  0.040  0.035  0.040  0.125  0.030  0.010  0.090  0.075   \n",
       "..     ...    ...    ...    ...    ...    ...    ...    ...    ...    ...   \n",
       "68   0.085  0.135  0.090  0.040  0.005  0.105  0.050  0.025  0.020  0.015   \n",
       "69   0.050  0.160  0.120  0.060  0.015  0.095  0.040  0.010  0.015  0.020   \n",
       "70   0.050  0.180  0.105  0.025  0.015  0.095  0.050  0.030  0.030  0.045   \n",
       "71   0.055  0.170  0.090  0.030  0.015  0.100  0.060  0.005  0.015  0.040   \n",
       "100  0.075  0.185  0.095  0.030  0.010  0.070  0.060  0.010  0.040  0.020   \n",
       "\n",
       "         h      y      b      r      j      t Classe  \n",
       "1    0.015  0.000  0.000  0.060  0.000  0.075     IT  \n",
       "137  0.010  0.000  0.010  0.070  0.000  0.075     IT  \n",
       "127  0.005  0.000  0.005  0.055  0.000  0.085     IT  \n",
       "128  0.010  0.005  0.015  0.040  0.005  0.090     IT  \n",
       "129  0.010  0.005  0.005  0.070  0.000  0.065     IT  \n",
       "..     ...    ...    ...    ...    ...    ...    ...  \n",
       "68   0.025  0.005  0.040  0.080  0.000  0.060     DE  \n",
       "69   0.040  0.000  0.010  0.060  0.005  0.070     DE  \n",
       "70   0.015  0.000  0.010  0.070  0.000  0.090     DE  \n",
       "71   0.050  0.005  0.020  0.060  0.005  0.095     DE  \n",
       "100  0.035  0.005  0.020  0.095  0.000  0.080     DE  \n",
       "\n",
       "[1000 rows x 17 columns]"
      ]
     },
     "execution_count": 34,
     "metadata": {},
     "output_type": "execute_result"
    }
   ],
   "source": [
    "data=data_instances([data_fr,data_en,data_de,data_it,data_es])\n",
    "data"
   ]
  },
  {
   "cell_type": "markdown",
   "metadata": {},
   "source": [
    "- Ce dataframme a permit de répondre à notre seconde question et de donner la fréquence de chaque caractère ainsi que leur classe."
   ]
  },
  {
   "cell_type": "markdown",
   "metadata": {},
   "source": [
    "# exploré la mesure de la précision du modèle."
   ]
  },
  {
   "cell_type": "markdown",
   "metadata": {},
   "source": [
    "## 3) Erreur empirique et en généralisation."
   ]
  },
  {
   "cell_type": "markdown",
   "metadata": {},
   "source": [
    "Cet algorithme est utilisé pour résoudre les problèmes du modèle de classification. K-plus proche voisin ou algorithme K-NN crée essentiellement une frontière imaginaire pour classer les données. Lorsque de nouveaux points de données arrivent, l’algorithme essaie de le prédire au plus proche de la ligne de démarcation.\n",
    "\n"
   ]
  },
  {
   "cell_type": "markdown",
   "metadata": {},
   "source": [
    "Par conséquent, une valeur k plus élevée signifie des courbes de séparation plus lisses, ce qui donne des modèles moins complexes. Alors qu’une valeur k plus petite a tendance à surajuster les données et à produire des modèles complexes."
   ]
  },
  {
   "cell_type": "markdown",
   "metadata": {},
   "source": [
    " Il est très important d’avoir la bonne valeur k lors de l’analyse de l’ensemble de données pour éviter le surajustement et le sous-ajustement de l’ensemble de données.\n",
    "\n"
   ]
  },
  {
   "cell_type": "markdown",
   "metadata": {},
   "source": [
    "En utilisant l’algorithme k-plus proche voisin, nous ajustons les données historiques (ou entraînons le modèle) et prédisons l’avenir."
   ]
  },
  {
   "cell_type": "markdown",
   "metadata": {},
   "source": [
    "Nous avons vu comment nous pouvons utiliser l’algorithme K-NN pour résoudre le problème d’machine learning supervisé. Mais comment mesurer la précision du modèle?"
   ]
  },
  {
   "cell_type": "markdown",
   "metadata": {},
   "source": [
    " Au lieu de cela, nous effectuons un réglage des hyperparamètres pour choisir la valeur qui donne les meilleures performances."
   ]
  },
  {
   "cell_type": "markdown",
   "metadata": {},
   "source": [
    "Mais comment décider de la bonne valeur k pour l’ensemble de données?"
   ]
  },
  {
   "cell_type": "code",
   "execution_count": null,
   "metadata": {},
   "outputs": [],
   "source": []
  },
  {
   "cell_type": "markdown",
   "metadata": {},
   "source": [
    "- Le module d’apprentissage scikit-learn propose une implémentation de l’algorithme des k plus proches voisins."
   ]
  },
  {
   "cell_type": "markdown",
   "metadata": {},
   "source": [
    "- Évaluation :\n",
    "\n",
    "    - scikit-learn dispose de nombreuses métriques d’évaluation.\n",
    "\n",
    "    - Començons donc par partager notre échantillon :"
   ]
  },
  {
   "cell_type": "code",
   "execution_count": 36,
   "metadata": {},
   "outputs": [],
   "source": [
    "X_train, X_test, y_train, y_test = train_test_split(data[d],data[\"Classe\"],test_size=0.4,random_state=11)"
   ]
  },
  {
   "cell_type": "markdown",
   "metadata": {},
   "source": [
    "- Les paramètres de la fonction train_test_split sont :\n",
    "\n",
    "    - les données : variables prédictives ici data[d] (les fragments de texte)\n",
    "    - les données : variable à prédire ici data[\"Classe\"] (les langues)\n",
    "    - test_size : proportion de l’échantillon consacré au test\n",
    "    - random_state : graine du générateur aléatoire utilisé pour le découpage"
   ]
  },
  {
   "cell_type": "markdown",
   "metadata": {},
   "source": [
    "Nous avons maintenant definir la fonction Erreur qui nous permetra de calculer l'erreur empirique et en generalisation pour un k donné. Plus k est faible plus on aura une meilleur precision pour la prediction d'ou l'importance de cette fonction "
   ]
  },
  {
   "cell_type": "code",
   "execution_count": 37,
   "metadata": {},
   "outputs": [],
   "source": [
    "def erreur(list_of_car,l_min,k):\n",
    "    l=[instances(url[0],d,l_min,classe[0]),\n",
    "       instances(url[1],d,l_min,classe[1]),\n",
    "       instances(url[2],d,l_min,classe[2]),\n",
    "       instances(url[3],d,l_min,classe[3]),\n",
    "       instances(url[4],d,l_min,classe[4])]\n",
    "    data=data_instances(l)[list_of_car ]\n",
    "    cible=data_instances(l)[\"Classe\"]\n",
    "    X_train, X_test, y_train, y_test = train_test_split(data,cible,test_size=0.4,random_state=11)\n",
    "    \n",
    "    knn = KNeighborsClassifier(n_neighbors=k)\n",
    "    knn.fit(X_train, y_train)\n",
    "    \n",
    "    #Calcul de l'erreur empirique\n",
    "    yhat_train = knn.predict(X_train) # predition de la langue  \n",
    "    err_emp = zero_one_loss(yhat_train, y_train) # calcul combien de fois on se trompe dans notre prédiction\n",
    "\n",
    "    #Calcul  l'erreur en generalisation\n",
    "    yhat_val = knn.predict(X_test)\n",
    "    err_gen = zero_one_loss(yhat_val, y_test)\n",
    "\n",
    "    print(\"Erreur empirique:\", err_emp, \n",
    "          \"\\nErreur en généralisation:\", err_gen)"
   ]
  },
  {
   "cell_type": "markdown",
   "metadata": {},
   "source": [
    "La fonction Entrainement a le même fonctionnement que la fonction precedent sa seule particularité, il propose plusieurs k. Il nous permet d'avoir une liste des k pour en fin choisir celui qui minimise les risques d'erreur (empirique et en generalisation)."
   ]
  },
  {
   "cell_type": "code",
   "execution_count": 38,
   "metadata": {},
   "outputs": [],
   "source": [
    "def Entrainement(l,n,list_of_car):\n",
    "    \n",
    "    data=data_instances(l)[list_of_car ]\n",
    "    cible=data_instances(l)[\"Classe\"]\n",
    "    X_train, X_test, y_train, y_test = train_test_split(data,cible,test_size=0.4,random_state=11)\n",
    "    erreurs = []\n",
    "    for k in range(1,n):\n",
    "        # L'entraînement du modèle\n",
    "        knn = KNeighborsClassifier(n_neighbors=k)\n",
    "        knn.fit(X_train, y_train) #entrainemnet du monele\n",
    "        # l'erreur empirique\n",
    "        yhat_train = knn.predict(X_train) # prediction de la langue \n",
    "        err_emp = zero_one_loss(yhat_train, y_train) # calcul combien de fois on se trompe dans notre prédiction\n",
    "        # l'erreur en generalisation\n",
    "        yhat_val = knn.predict(X_test)\n",
    "        err_gen = zero_one_loss(yhat_val, y_test)\n",
    "        erreurs.append([k, err_emp, err_gen])\n",
    "        dfErreurs = pd.DataFrame(erreurs, \n",
    "                                 columns=[\"k\", \"empirique\", \"generalization\"])\n",
    "    return dfErreurs"
   ]
  },
  {
   "cell_type": "markdown",
   "metadata": {},
   "source": [
    "La Fonction f est un complement de la fonction \"Entrainement\". Elle fait la meme chose que cette derniere, elle nous permet tout simplement d'eviter de duppliquer cette fonction a chaque fois qu'on change de parametre."
   ]
  },
  {
   "cell_type": "code",
   "execution_count": 39,
   "metadata": {},
   "outputs": [],
   "source": [
    "def f(d,l_min,n):\n",
    "    l=[instances(url[0],d,l_min,classe[0]),\n",
    "       instances(url[1],d,l_min,classe[1]),\n",
    "       instances(url[2],d,l_min,classe[2]),\n",
    "       instances(url[3],d,l_min,classe[3]),\n",
    "       instances(url[4],d,l_min,classe[4])]\n",
    "    dataEr=Entrainement(l,n,d)\n",
    "    return dataEr"
   ]
  },
  {
   "cell_type": "code",
   "execution_count": 41,
   "metadata": {},
   "outputs": [
    {
     "data": {
      "text/html": [
       "<div>\n",
       "<style scoped>\n",
       "    .dataframe tbody tr th:only-of-type {\n",
       "        vertical-align: middle;\n",
       "    }\n",
       "\n",
       "    .dataframe tbody tr th {\n",
       "        vertical-align: top;\n",
       "    }\n",
       "\n",
       "    .dataframe thead th {\n",
       "        text-align: right;\n",
       "    }\n",
       "</style>\n",
       "<table border=\"1\" class=\"dataframe\">\n",
       "  <thead>\n",
       "    <tr style=\"text-align: right;\">\n",
       "      <th></th>\n",
       "      <th>k</th>\n",
       "      <th>empirique</th>\n",
       "      <th>generalization</th>\n",
       "    </tr>\n",
       "  </thead>\n",
       "  <tbody>\n",
       "    <tr>\n",
       "      <th>0</th>\n",
       "      <td>1</td>\n",
       "      <td>0.000000</td>\n",
       "      <td>0.1650</td>\n",
       "    </tr>\n",
       "    <tr>\n",
       "      <th>1</th>\n",
       "      <td>2</td>\n",
       "      <td>0.063333</td>\n",
       "      <td>0.1775</td>\n",
       "    </tr>\n",
       "    <tr>\n",
       "      <th>2</th>\n",
       "      <td>3</td>\n",
       "      <td>0.063333</td>\n",
       "      <td>0.1375</td>\n",
       "    </tr>\n",
       "    <tr>\n",
       "      <th>3</th>\n",
       "      <td>4</td>\n",
       "      <td>0.066667</td>\n",
       "      <td>0.1275</td>\n",
       "    </tr>\n",
       "    <tr>\n",
       "      <th>4</th>\n",
       "      <td>5</td>\n",
       "      <td>0.076667</td>\n",
       "      <td>0.1200</td>\n",
       "    </tr>\n",
       "    <tr>\n",
       "      <th>5</th>\n",
       "      <td>6</td>\n",
       "      <td>0.071667</td>\n",
       "      <td>0.1225</td>\n",
       "    </tr>\n",
       "    <tr>\n",
       "      <th>6</th>\n",
       "      <td>7</td>\n",
       "      <td>0.075000</td>\n",
       "      <td>0.1100</td>\n",
       "    </tr>\n",
       "    <tr>\n",
       "      <th>7</th>\n",
       "      <td>8</td>\n",
       "      <td>0.075000</td>\n",
       "      <td>0.1075</td>\n",
       "    </tr>\n",
       "    <tr>\n",
       "      <th>8</th>\n",
       "      <td>9</td>\n",
       "      <td>0.075000</td>\n",
       "      <td>0.1000</td>\n",
       "    </tr>\n",
       "    <tr>\n",
       "      <th>9</th>\n",
       "      <td>10</td>\n",
       "      <td>0.071667</td>\n",
       "      <td>0.1000</td>\n",
       "    </tr>\n",
       "    <tr>\n",
       "      <th>10</th>\n",
       "      <td>11</td>\n",
       "      <td>0.080000</td>\n",
       "      <td>0.0925</td>\n",
       "    </tr>\n",
       "    <tr>\n",
       "      <th>11</th>\n",
       "      <td>12</td>\n",
       "      <td>0.085000</td>\n",
       "      <td>0.0975</td>\n",
       "    </tr>\n",
       "    <tr>\n",
       "      <th>12</th>\n",
       "      <td>13</td>\n",
       "      <td>0.081667</td>\n",
       "      <td>0.0975</td>\n",
       "    </tr>\n",
       "    <tr>\n",
       "      <th>13</th>\n",
       "      <td>14</td>\n",
       "      <td>0.085000</td>\n",
       "      <td>0.0975</td>\n",
       "    </tr>\n",
       "    <tr>\n",
       "      <th>14</th>\n",
       "      <td>15</td>\n",
       "      <td>0.086667</td>\n",
       "      <td>0.1000</td>\n",
       "    </tr>\n",
       "    <tr>\n",
       "      <th>15</th>\n",
       "      <td>16</td>\n",
       "      <td>0.088333</td>\n",
       "      <td>0.0900</td>\n",
       "    </tr>\n",
       "    <tr>\n",
       "      <th>16</th>\n",
       "      <td>17</td>\n",
       "      <td>0.078333</td>\n",
       "      <td>0.0900</td>\n",
       "    </tr>\n",
       "    <tr>\n",
       "      <th>17</th>\n",
       "      <td>18</td>\n",
       "      <td>0.083333</td>\n",
       "      <td>0.0925</td>\n",
       "    </tr>\n",
       "    <tr>\n",
       "      <th>18</th>\n",
       "      <td>19</td>\n",
       "      <td>0.080000</td>\n",
       "      <td>0.1000</td>\n",
       "    </tr>\n",
       "  </tbody>\n",
       "</table>\n",
       "</div>"
      ],
      "text/plain": [
       "     k  empirique  generalization\n",
       "0    1   0.000000          0.1650\n",
       "1    2   0.063333          0.1775\n",
       "2    3   0.063333          0.1375\n",
       "3    4   0.066667          0.1275\n",
       "4    5   0.076667          0.1200\n",
       "5    6   0.071667          0.1225\n",
       "6    7   0.075000          0.1100\n",
       "7    8   0.075000          0.1075\n",
       "8    9   0.075000          0.1000\n",
       "9   10   0.071667          0.1000\n",
       "10  11   0.080000          0.0925\n",
       "11  12   0.085000          0.0975\n",
       "12  13   0.081667          0.0975\n",
       "13  14   0.085000          0.0975\n",
       "14  15   0.086667          0.1000\n",
       "15  16   0.088333          0.0900\n",
       "16  17   0.078333          0.0900\n",
       "17  18   0.083333          0.0925\n",
       "18  19   0.080000          0.1000"
      ]
     },
     "execution_count": 41,
     "metadata": {},
     "output_type": "execute_result"
    }
   ],
   "source": [
    "f(d,l_min,20)"
   ]
  },
  {
   "cell_type": "markdown",
   "metadata": {},
   "source": [
    "Ici, dans l’exemple ci-dessus, nous créons un graphique pour voir la valeur k pour laquelle nous avons une grande précision."
   ]
  },
  {
   "cell_type": "markdown",
   "metadata": {},
   "source": [
    "On trace les courbes des erreurs empirique et en generalisation pour visualiser leurs allure et choisir le plus petit k "
   ]
  },
  {
   "cell_type": "code",
   "execution_count": 42,
   "metadata": {},
   "outputs": [
    {
     "data": {
      "text/plain": [
       "<AxesSubplot:xlabel='k'>"
      ]
     },
     "execution_count": 42,
     "metadata": {},
     "output_type": "execute_result"
    },
    {
     "data": {
      "image/png": "[encoded data removed]",
      "text/plain": [
       "<Figure size 432x288 with 1 Axes>"
      ]
     },
     "metadata": {
      "needs_background": "light"
     },
     "output_type": "display_data"
    }
   ],
   "source": [
    "dfErreurs=f(d,l_min,20)\n",
    "dfErreurs.plot(x=\"k\",grid=True)"
   ]
  },
  {
   "cell_type": "markdown",
   "metadata": {},
   "source": [
    "- Un classifier 𝑘-plus proches voisins avec 𝑘=19 semble donner le meilleur résultat en terme de généralisation."
   ]
  },
  {
   "cell_type": "code",
   "execution_count": 43,
   "metadata": {},
   "outputs": [
    {
     "name": "stdout",
     "output_type": "stream",
     "text": [
      "Erreur empirique: 0.08833333333333337 \n",
      "Erreur en généralisation: 0.08999999999999997\n"
     ]
    }
   ],
   "source": [
    "erreur(d,l_min,16)"
   ]
  },
  {
   "cell_type": "markdown",
   "metadata": {},
   "source": [
    "- On chosi donc le k qui minimise l'erreur."
   ]
  },
  {
   "cell_type": "markdown",
   "metadata": {},
   "source": [
    "- En prenant le k=19 on observe un erreur moins importante pour l_min = 200"
   ]
  },
  {
   "cell_type": "markdown",
   "metadata": {},
   "source": [
    "# Appronfondissement."
   ]
  },
  {
   "cell_type": "markdown",
   "metadata": {},
   "source": [
    "# 1 er cas étudié: prenons les memes instances mais avec des d et des l_min différents :"
   ]
  },
  {
   "cell_type": "markdown",
   "metadata": {},
   "source": [
    "Maintenant gardons les memes instances, le meme d, mais prenons l_min=150"
   ]
  },
  {
   "cell_type": "code",
   "execution_count": 41,
   "metadata": {},
   "outputs": [
    {
     "data": {
      "text/plain": [
       "<AxesSubplot:xlabel='k'>"
      ]
     },
     "execution_count": 41,
     "metadata": {},
     "output_type": "execute_result"
    },
    {
     "data": {
      "image/png": "[encoded data removed]",
      "text/plain": [
       "<Figure size 432x288 with 1 Axes>"
      ]
     },
     "metadata": {
      "needs_background": "light"
     },
     "output_type": "display_data"
    }
   ],
   "source": [
    "dfErreurs=f(d,150,20)\n",
    "dfErreurs.plot(x=\"k\",grid=True)"
   ]
  },
  {
   "cell_type": "markdown",
   "metadata": {},
   "source": [
    "- Un classifier 𝑘-plus proches voisins avec 𝑘=12 semble donner le meilleur résultat en terme de généralisation.\n",
    "- On observe qu'ici les k sont différents lorsque l_min change."
   ]
  },
  {
   "cell_type": "code",
   "execution_count": 42,
   "metadata": {},
   "outputs": [
    {
     "name": "stdout",
     "output_type": "stream",
     "text": [
      "Erreur empirique: 0.12531328320802004 \n",
      "Erreur en généralisation: 0.12593984962406013\n"
     ]
    }
   ],
   "source": [
    "erreur(d,150,12)"
   ]
  },
  {
   "cell_type": "code",
   "execution_count": 43,
   "metadata": {},
   "outputs": [
    {
     "name": "stdout",
     "output_type": "stream",
     "text": [
      "Erreur empirique: 0.07999999999999996 \n",
      "Erreur en généralisation: 0.09999999999999998\n"
     ]
    }
   ],
   "source": [
    "erreur(d,l_min,19)"
   ]
  },
  {
   "cell_type": "markdown",
   "metadata": {},
   "source": [
    " - le minimum des k pour l_min=150 est plus elevé que quand l_min=200"
   ]
  },
  {
   "cell_type": "markdown",
   "metadata": {},
   "source": [
    "Gardons les memes instances, le meme d, mais prenons l_min=250"
   ]
  },
  {
   "cell_type": "code",
   "execution_count": 44,
   "metadata": {},
   "outputs": [
    {
     "data": {
      "text/plain": [
       "<AxesSubplot:xlabel='k'>"
      ]
     },
     "execution_count": 44,
     "metadata": {},
     "output_type": "execute_result"
    },
    {
     "data": {
      "image/png": "[encoded data removed]",
      "text/plain": [
       "<Figure size 432x288 with 1 Axes>"
      ]
     },
     "metadata": {
      "needs_background": "light"
     },
     "output_type": "display_data"
    }
   ],
   "source": [
    "dfErreurs=f(d,250,15)\n",
    "dfErreurs.plot(x=\"k\",grid=True)"
   ]
  },
  {
   "cell_type": "markdown",
   "metadata": {},
   "source": [
    "- Un classifier 𝑘-plus proches voisins avec 𝑘=3 semble donner le meilleur résultat en terme de généralisation"
   ]
  },
  {
   "cell_type": "code",
   "execution_count": 45,
   "metadata": {},
   "outputs": [
    {
     "name": "stdout",
     "output_type": "stream",
     "text": [
      "Erreur empirique: 0.03749999999999998 \n",
      "Erreur en généralisation: 0.07187500000000002\n"
     ]
    }
   ],
   "source": [
    "erreur(d,250,5)"
   ]
  },
  {
   "cell_type": "code",
   "execution_count": 46,
   "metadata": {},
   "outputs": [
    {
     "name": "stdout",
     "output_type": "stream",
     "text": [
      "Erreur empirique: 0.07999999999999996 \n",
      "Erreur en généralisation: 0.09999999999999998\n"
     ]
    }
   ],
   "source": [
    "erreur(d,l_min,19)"
   ]
  },
  {
   "cell_type": "markdown",
   "metadata": {},
   "source": [
    "- Pour l_min=250 on se trompe moins par raport l_min=200"
   ]
  },
  {
   "cell_type": "markdown",
   "metadata": {},
   "source": [
    "- On observe donc que selon le l_min l'erreur est plus ou moins importante."
   ]
  },
  {
   "cell_type": "markdown",
   "metadata": {},
   "source": [
    "Maintenant changeons simplement d et gardons notre l_min de base."
   ]
  },
  {
   "cell_type": "code",
   "execution_count": 52,
   "metadata": {},
   "outputs": [
    {
     "data": {
      "text/plain": [
       "<AxesSubplot:xlabel='k'>"
      ]
     },
     "execution_count": 52,
     "metadata": {},
     "output_type": "execute_result"
    },
    {
     "data": {
      "image/png": "[encoded data removed]",
      "text/plain": [
       "<Figure size 432x288 with 1 Axes>"
      ]
     },
     "metadata": {
      "needs_background": "light"
     },
     "output_type": "display_data"
    }
   ],
   "source": [
    "d2=['p','i','t','s']\n",
    "dfErreurs=f(d2,l_min,20)\n",
    "dfErreurs.plot(x=\"k\",grid=True)"
   ]
  },
  {
   "cell_type": "markdown",
   "metadata": {},
   "source": [
    "- Un classifier 𝑘-plus proches voisins avec 𝑘=18 semble donner le meilleur résultat en terme de généralisation."
   ]
  },
  {
   "cell_type": "code",
   "execution_count": 53,
   "metadata": {},
   "outputs": [
    {
     "name": "stdout",
     "output_type": "stream",
     "text": [
      "Erreur empirique: 0.31833333333333336 \n",
      "Erreur en généralisation: 0.365\n"
     ]
    }
   ],
   "source": [
    "erreur(d2,l_min,18)"
   ]
  },
  {
   "cell_type": "code",
   "execution_count": 54,
   "metadata": {},
   "outputs": [
    {
     "name": "stdout",
     "output_type": "stream",
     "text": [
      "Erreur empirique: 0.07999999999999996 \n",
      "Erreur en généralisation: 0.09999999999999998\n"
     ]
    }
   ],
   "source": [
    "erreur(d,l_min,19)"
   ]
  },
  {
   "cell_type": "markdown",
   "metadata": {},
   "source": [
    "- On observe une erreur plus importante pour ce d choisi. "
   ]
  },
  {
   "cell_type": "markdown",
   "metadata": {},
   "source": [
    "- Conclusion 1 :\n",
    "    - Avec les 5 instances on observe que l'erreur devient plus ou moins importante lorsque d ou l_min change."
   ]
  },
  {
   "cell_type": "markdown",
   "metadata": {},
   "source": [
    "# 2 ème cas: On compare les erreurs entre 2 langues proches et 2 langues différentes :"
   ]
  },
  {
   "cell_type": "markdown",
   "metadata": {},
   "source": [
    "Maintenant changeons les instances (uniquement espagnol et italien, langues qui se rapprochent) en gardant le meme l_min et le meme d :"
   ]
  },
  {
   "cell_type": "code",
   "execution_count": 55,
   "metadata": {},
   "outputs": [],
   "source": [
    "def erreur2(list_of_car,l_min,k):\n",
    "    l=[instances(url[3],d,l_min,classe[3]),\n",
    "       instances(url[4],d,l_min,classe[4])]\n",
    "    data=data_instances(l)[list_of_car ]\n",
    "    cible=data_instances(l)[\"Classe\"]\n",
    "    X_train, X_test, y_train, y_test = train_test_split(data,cible,test_size=0.4,random_state=11)\n",
    "    \n",
    "    knn = KNeighborsClassifier(n_neighbors=k)\n",
    "    knn.fit(X_train, y_train)\n",
    "    \n",
    "    #Calcul de l'erreur empirique\n",
    "    yhat_train = knn.predict(X_train) # predition de la langue  \n",
    "    err_emp = zero_one_loss(yhat_train, y_train) # calcul combien de fois on se trompe dans notre prédiction\n",
    "\n",
    "    #Calcul  l'erreur en generalisation\n",
    "    yhat_val = knn.predict(X_test)\n",
    "    err_gen = zero_one_loss(yhat_val, y_test)\n",
    "\n",
    "    print(\"Erreur empirique:\", err_emp, \n",
    "          \"\\nErreur en généralisation:\", err_gen)"
   ]
  },
  {
   "cell_type": "code",
   "execution_count": 56,
   "metadata": {},
   "outputs": [],
   "source": [
    "def f_es_it(d,l_min,n):\n",
    "    l=[instances(url[3],d,l_min,classe[3]),\n",
    "       instances(url[4],d,l_min,classe[4])]\n",
    "    dataEr=Entrainement(l,n,d)\n",
    "    return dataEr"
   ]
  },
  {
   "cell_type": "code",
   "execution_count": 57,
   "metadata": {},
   "outputs": [
    {
     "data": {
      "text/plain": [
       "<AxesSubplot:xlabel='k'>"
      ]
     },
     "execution_count": 57,
     "metadata": {},
     "output_type": "execute_result"
    },
    {
     "data": {
      "image/png": "[encoded data removed]",
      "text/plain": [
       "<Figure size 432x288 with 1 Axes>"
      ]
     },
     "metadata": {
      "needs_background": "light"
     },
     "output_type": "display_data"
    }
   ],
   "source": [
    "dfErreurs=f_es_it(d,l_min,20)\n",
    "dfErreurs.plot(x=\"k\",grid=True)"
   ]
  },
  {
   "cell_type": "markdown",
   "metadata": {},
   "source": [
    "- Un classifier 𝑘-plus proches voisins avec 𝑘=9 semble donner le meilleur résultat en terme de généralisation."
   ]
  },
  {
   "cell_type": "code",
   "execution_count": 58,
   "metadata": {},
   "outputs": [
    {
     "name": "stdout",
     "output_type": "stream",
     "text": [
      "Erreur empirique: 0.09166666666666667 \n",
      "Erreur en généralisation: 0.09999999999999998\n"
     ]
    }
   ],
   "source": [
    "erreur2(d,l_min,9)"
   ]
  },
  {
   "cell_type": "code",
   "execution_count": 59,
   "metadata": {},
   "outputs": [
    {
     "name": "stdout",
     "output_type": "stream",
     "text": [
      "Erreur empirique: 0.07999999999999996 \n",
      "Erreur en généralisation: 0.09999999999999998\n"
     ]
    }
   ],
   "source": [
    "erreur(d,l_min,19)"
   ]
  },
  {
   "cell_type": "markdown",
   "metadata": {},
   "source": [
    "- On constate que pour le cas ou il y a tout les instances l'erreur empirique est moins importante."
   ]
  },
  {
   "cell_type": "markdown",
   "metadata": {},
   "source": [
    "Maintenant prenons uniquement francais et allemand ( langue différente ) et comparons avec notre exemple précédent."
   ]
  },
  {
   "cell_type": "code",
   "execution_count": 44,
   "metadata": {},
   "outputs": [],
   "source": [
    "def erreur3(list_of_car,l_min,k):\n",
    "    l=[instances(url[0],d,l_min,classe[0]),\n",
    "       instances(url[2],d,l_min,classe[2])]\n",
    "    data=data_instances(l)[list_of_car ]\n",
    "    cible=data_instances(l)[\"Classe\"]\n",
    "    X_train, X_test, y_train, y_test = train_test_split(data,cible,test_size=0.4,random_state=11)\n",
    "    \n",
    "    knn = KNeighborsClassifier(n_neighbors=k)\n",
    "    knn.fit(X_train, y_train)\n",
    "    \n",
    "    #Calcul de l'erreur empirique\n",
    "    yhat_train = knn.predict(X_train) # predition de la langue  \n",
    "    err_emp = zero_one_loss(yhat_train, y_train) # calcul combien de fois on se trompe dans notre prédiction\n",
    "\n",
    "    #Calcul  l'erreur en generalisation\n",
    "    yhat_val = knn.predict(X_test)\n",
    "    err_gen = zero_one_loss(yhat_val, y_test)\n",
    "\n",
    "    print(\"Erreur empirique:\", err_emp, \n",
    "          \"\\nErreur en généralisation:\", err_gen)"
   ]
  },
  {
   "cell_type": "code",
   "execution_count": 45,
   "metadata": {},
   "outputs": [],
   "source": [
    "def f_fr_de(d,l_min,n):\n",
    "    l=[instances(url[0],d,l_min,classe[0]),\n",
    "       instances(url[2],d,l_min,classe[2])]\n",
    "    dataEr=Entrainement(l,n,d)\n",
    "    return dataEr"
   ]
  },
  {
   "cell_type": "code",
   "execution_count": 46,
   "metadata": {},
   "outputs": [
    {
     "data": {
      "text/plain": [
       "<AxesSubplot:xlabel='k'>"
      ]
     },
     "execution_count": 46,
     "metadata": {},
     "output_type": "execute_result"
    },
    {
     "data": {
      "image/png": "[encoded data removed]",
      "text/plain": [
       "<Figure size 432x288 with 1 Axes>"
      ]
     },
     "metadata": {
      "needs_background": "light"
     },
     "output_type": "display_data"
    }
   ],
   "source": [
    "dfErreurs=f_fr_de(d,l_min,20)\n",
    "dfErreurs.plot(x=\"k\",grid=True)"
   ]
  },
  {
   "cell_type": "code",
   "execution_count": 47,
   "metadata": {},
   "outputs": [
    {
     "name": "stdout",
     "output_type": "stream",
     "text": [
      "Erreur empirique: 0.01666666666666672 \n",
      "Erreur en généralisation: 0.018750000000000044\n"
     ]
    }
   ],
   "source": [
    "erreur3(d,l_min,9)"
   ]
  },
  {
   "cell_type": "markdown",
   "metadata": {},
   "source": [
    "- Un classifier 𝑘-plus proches voisins avec 𝑘=16 semble donner le meilleur résultat en terme de généralisation."
   ]
  },
  {
   "cell_type": "markdown",
   "metadata": {},
   "source": [
    "- Conclusion :\n",
    "    - Lorsque les langues se rapprochent il y a plus d'erreur, en effet cela s'explique par le fait qu'il est difficile de les reconnaitres en sachant qu'elles ont des similitudes."
   ]
  },
  {
   "cell_type": "markdown",
   "metadata": {},
   "source": [
    "## Conclusion:"
   ]
  },
  {
   "cell_type": "markdown",
   "metadata": {},
   "source": [
    "- Il faut donc choisir le l_min, le d, et les instances qui minise les risques; en effet certains cas comme on a pu étudié, comme par exemple en modifiant le domaine instances on remarque des risques d'erreurs plus ou moins  importants.\n",
    "-les langues les plus proches semble donnée des risques d'erreurs k plus elevés que celles qui ne le sont pas, la prediction pour ces langues est donc moins precises.\n",
    "\n",
    "- Parmis tous les cas qu'on a pu etudier, le cas où l_min=250 avec d=['a', 'e', 'n', 'u', 'p', 'i', 's', 'w','o', 'l', 'h','y','b','r','j','t']  et n=160 semble donne un meilleurs resultat (le risque d'erreur est beaucoup plus faible)"
   ]
  },
  {
   "cell_type": "code",
   "execution_count": null,
   "metadata": {},
   "outputs": [],
   "source": []
  }
 ],
 "metadata": {
  "kernelspec": {
   "display_name": "Python 3",
   "language": "python",
   "name": "python3"
  },
  "language_info": {
   "codemirror_mode": {
    "name": "ipython",
    "version": 3
   },
   "file_extension": ".py",
   "mimetype": "text/x-python",
   "name": "python",
   "nbconvert_exporter": "python",
   "pygments_lexer": "ipython3",
   "version": "3.8.8"
  }
 },
 "nbformat": 4,
 "nbformat_minor": 4
}
